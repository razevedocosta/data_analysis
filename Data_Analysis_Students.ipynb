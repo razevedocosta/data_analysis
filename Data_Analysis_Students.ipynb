{
  "nbformat": 4,
  "nbformat_minor": 0,
  "metadata": {
    "colab": {
      "name": "Daest_Classificação_Novo.ipynb ",
      "provenance": [],
      "authorship_tag": "ABX9TyNubhaZvcLuYVap6IHEYJG+",
      "include_colab_link": true
    },
    "kernelspec": {
      "name": "python3",
      "display_name": "Python 3"
    }
  },
  "cells": [
    {
      "cell_type": "markdown",
      "metadata": {
        "id": "view-in-github",
        "colab_type": "text"
      },
      "source": [
        "<a href=\"https://colab.research.google.com/github/razevedocosta/data_analysis/blob/master/Data_Analysis_Students.ipynb\" target=\"_parent\"><img src=\"https://colab.research.google.com/assets/colab-badge.svg\" alt=\"Open In Colab\"/></a>"
      ]
    },
    {
      "cell_type": "markdown",
      "metadata": {
        "id": "6c_StCAkr0g8",
        "colab_type": "text"
      },
      "source": [
        "**Notebook Daest Classificação**\n",
        "\n",
        "*   **Pré-requisito:** planilha de classificação em formato *csv*\n",
        "*   **Arquivo:** fazer upload do arquivo desejado no menu ao lado\n",
        "*   **Utilização:** apertar Shift+Enter sobre os blocos de código\n",
        "\n"
      ]
    },
    {
      "cell_type": "markdown",
      "metadata": {
        "id": "DPBW75ZBaomx",
        "colab_type": "text"
      },
      "source": [
        "# Importação de Dados\n",
        "---"
      ]
    },
    {
      "cell_type": "code",
      "metadata": {
        "id": "FI2Y1Cc-UPHa",
        "colab_type": "code",
        "colab": {}
      },
      "source": [
        "import pandas as pd\n",
        "\n",
        "dados = pd.read_csv(\"classificacao_11.csv\")  # o nome do arquivo do upload deve ser inserido aqui\n",
        "#dados.head()"
      ],
      "execution_count": 0,
      "outputs": []
    },
    {
      "cell_type": "code",
      "metadata": {
        "id": "dmIV-_rVUPpj",
        "colab_type": "code",
        "outputId": "c2524ddc-2372-420e-9fe4-e4e826b0fd1e",
        "colab": {
          "base_uri": "https://localhost:8080/",
          "height": 34
        }
      },
      "source": [
        "# total de registros (linhas, colunas)\n",
        "dados.shape"
      ],
      "execution_count": 0,
      "outputs": [
        {
          "output_type": "execute_result",
          "data": {
            "text/plain": [
              "(126, 13)"
            ]
          },
          "metadata": {
            "tags": []
          },
          "execution_count": 5
        }
      ]
    },
    {
      "cell_type": "code",
      "metadata": {
        "id": "0V93MS_vUToB",
        "colab_type": "code",
        "outputId": "edeab22d-0f6e-49db-8d7d-59edaa91370f",
        "colab": {
          "base_uri": "https://localhost:8080/",
          "height": 297
        }
      },
      "source": [
        "# descrição do atributo renda\n",
        "dados[['RENDA']].describe()"
      ],
      "execution_count": 0,
      "outputs": [
        {
          "output_type": "execute_result",
          "data": {
            "text/html": [
              "<div>\n",
              "<style scoped>\n",
              "    .dataframe tbody tr th:only-of-type {\n",
              "        vertical-align: middle;\n",
              "    }\n",
              "\n",
              "    .dataframe tbody tr th {\n",
              "        vertical-align: top;\n",
              "    }\n",
              "\n",
              "    .dataframe thead th {\n",
              "        text-align: right;\n",
              "    }\n",
              "</style>\n",
              "<table border=\"1\" class=\"dataframe\">\n",
              "  <thead>\n",
              "    <tr style=\"text-align: right;\">\n",
              "      <th></th>\n",
              "      <th>RENDA</th>\n",
              "    </tr>\n",
              "  </thead>\n",
              "  <tbody>\n",
              "    <tr>\n",
              "      <th>count</th>\n",
              "      <td>126.000000</td>\n",
              "    </tr>\n",
              "    <tr>\n",
              "      <th>mean</th>\n",
              "      <td>449.299930</td>\n",
              "    </tr>\n",
              "    <tr>\n",
              "      <th>std</th>\n",
              "      <td>287.370504</td>\n",
              "    </tr>\n",
              "    <tr>\n",
              "      <th>min</th>\n",
              "      <td>0.000000</td>\n",
              "    </tr>\n",
              "    <tr>\n",
              "      <th>25%</th>\n",
              "      <td>239.625000</td>\n",
              "    </tr>\n",
              "    <tr>\n",
              "      <th>50%</th>\n",
              "      <td>394.111667</td>\n",
              "    </tr>\n",
              "    <tr>\n",
              "      <th>75%</th>\n",
              "      <td>596.138125</td>\n",
              "    </tr>\n",
              "    <tr>\n",
              "      <th>max</th>\n",
              "      <td>1366.913333</td>\n",
              "    </tr>\n",
              "  </tbody>\n",
              "</table>\n",
              "</div>"
            ],
            "text/plain": [
              "             RENDA\n",
              "count   126.000000\n",
              "mean    449.299930\n",
              "std     287.370504\n",
              "min       0.000000\n",
              "25%     239.625000\n",
              "50%     394.111667\n",
              "75%     596.138125\n",
              "max    1366.913333"
            ]
          },
          "metadata": {
            "tags": []
          },
          "execution_count": 6
        }
      ]
    },
    {
      "cell_type": "code",
      "metadata": {
        "id": "WWdGnXVAUWEq",
        "colab_type": "code",
        "outputId": "bb41452b-4d37-4a41-8aff-c4092ac5dad9",
        "colab": {
          "base_uri": "https://localhost:8080/",
          "height": 283
        }
      },
      "source": [
        "# histograma das inscrições pela distribuição de renda\n",
        "dados.RENDA.plot(kind='hist')"
      ],
      "execution_count": 0,
      "outputs": [
        {
          "output_type": "execute_result",
          "data": {
            "text/plain": [
              "<matplotlib.axes._subplots.AxesSubplot at 0x7f7dd4e2a780>"
            ]
          },
          "metadata": {
            "tags": []
          },
          "execution_count": 7
        },
        {
          "output_type": "display_data",
          "data": {
            "image/png": "[encoded data removed]",
            "text/plain": [
              "<Figure size 432x288 with 1 Axes>"
            ]
          },
          "metadata": {
            "tags": [],
            "needs_background": "light"
          }
        }
      ]
    },
    {
      "cell_type": "code",
      "metadata": {
        "id": "fUBBf7zIUZQo",
        "colab_type": "code",
        "outputId": "ac078879-0eca-4bd4-b48e-706c99932f26",
        "colab": {
          "base_uri": "https://localhost:8080/",
          "height": 282
        }
      },
      "source": [
        "# histograma das inscrições pela pontuação do aluno\n",
        "dados.PONTUACAO.plot(kind='hist')"
      ],
      "execution_count": 0,
      "outputs": [
        {
          "output_type": "execute_result",
          "data": {
            "text/plain": [
              "<matplotlib.axes._subplots.AxesSubplot at 0x7f7dd4d17dd8>"
            ]
          },
          "metadata": {
            "tags": []
          },
          "execution_count": 8
        },
        {
          "output_type": "display_data",
          "data": {
            "image/png": "[encoded data removed]",
            "text/plain": [
              "<Figure size 432x288 with 1 Axes>"
            ]
          },
          "metadata": {
            "tags": [],
            "needs_background": "light"
          }
        }
      ]
    },
    {
      "cell_type": "markdown",
      "metadata": {
        "id": "fMYEvz8tavHg",
        "colab_type": "text"
      },
      "source": [
        "# Totais por Atributo\n",
        "---"
      ]
    },
    {
      "cell_type": "markdown",
      "metadata": {
        "id": "MOM6w3oka0nH",
        "colab_type": "text"
      },
      "source": [
        "## Renda"
      ]
    },
    {
      "cell_type": "code",
      "metadata": {
        "id": "MAiKU6rYUf0A",
        "colab_type": "code",
        "outputId": "9c044ed6-778a-48f4-cc6d-f3259de30642",
        "colab": {
          "base_uri": "https://localhost:8080/",
          "height": 34
        }
      },
      "source": [
        "# iteração no atributo renda para realizar a contagem de acordo com o nível de renda (1 - 9)\n",
        "\n",
        "nivel1=nivel2=nivel3=nivel4=nivel5=nivel6=nivel7=nivel8=nivel9=0\n",
        "\n",
        "for item in dados['RENDA']:\n",
        "  #print(item)\n",
        "  if (item >= 0 and item <= 195.93):\n",
        "    nivel1 = nivel1 + 1\n",
        "  if (item > 195.93 and item <= 223.92):\n",
        "    nivel2 = nivel2 + 1\n",
        "  if (item > 223.92 and item <= 261.25):\n",
        "    nivel3 = nivel3 + 1\n",
        "  if (item > 261.25 and item <= 313.50):\n",
        "    nivel4 = nivel4 + 1\n",
        "  if (item > 313.50 and item <= 391.87):\n",
        "    nivel5 = nivel5 + 1    \n",
        "  if (item > 391.87 and item <= 522.50):\n",
        "    nivel6 = nivel6 + 1\n",
        "  if (item > 522.50 and item <= 783.75):\n",
        "    nivel7 = nivel7 + 1\n",
        "  if (item > 783.75 and item <= 1567.50):\n",
        "    nivel8 = nivel8 + 1\n",
        "  if (item > 1567.50):\n",
        "    nivel9 = nivel9 + 1    \n",
        "\n",
        "# criação de uma tupla para armazenar as quantidades\n",
        "total = tuple([nivel1, nivel2, nivel3, nivel4, nivel5, nivel6, nivel7, nivel8, nivel9])\n",
        "total"
      ],
      "execution_count": 0,
      "outputs": [
        {
          "output_type": "execute_result",
          "data": {
            "text/plain": [
              "(19, 9, 12, 9, 12, 26, 25, 14, 0)"
            ]
          },
          "metadata": {
            "tags": []
          },
          "execution_count": 9
        }
      ]
    },
    {
      "cell_type": "code",
      "metadata": {
        "id": "TZ6ICpgRUj6H",
        "colab_type": "code",
        "outputId": "c98f17c1-4d42-403e-9142-c86357619ea9",
        "colab": {
          "base_uri": "https://localhost:8080/",
          "height": 170
        }
      },
      "source": [
        "# criaçã de uma lista com o nome de cada nivel\n",
        "nivel = ['nivel1', 'nivel2', 'nivel3', 'nivel4', 'nivel5', 'nivel6', 'nivel7', 'nivel8', 'nivel9']\n",
        "\n",
        "# criação de uma lista com a união de cada lista (legenda e niveis)\n",
        "niveis_list = list(zip(nivel, total))\n",
        "niveis_list"
      ],
      "execution_count": 0,
      "outputs": [
        {
          "output_type": "execute_result",
          "data": {
            "text/plain": [
              "[('nivel1', 19),\n",
              " ('nivel2', 9),\n",
              " ('nivel3', 12),\n",
              " ('nivel4', 9),\n",
              " ('nivel5', 12),\n",
              " ('nivel6', 26),\n",
              " ('nivel7', 25),\n",
              " ('nivel8', 14),\n",
              " ('nivel9', 0)]"
            ]
          },
          "metadata": {
            "tags": []
          },
          "execution_count": 10
        }
      ]
    },
    {
      "cell_type": "code",
      "metadata": {
        "id": "dkbYqHevUn6I",
        "colab_type": "code",
        "outputId": "d03a4461-f865-47e4-b8e9-f771f71e14fa",
        "colab": {
          "base_uri": "https://localhost:8080/",
          "height": 328
        }
      },
      "source": [
        "# transformação da lista em dataframe e atribuição de nome para as colunas\n",
        "contagem_renda = pd.DataFrame(niveis_list, columns=['NIVEIS_RENDA', 'TOTAL']) \n",
        "contagem_renda\n",
        "\n",
        "# verificar se a quantidade está correta\n",
        "#df['TOTAL'].sum()"
      ],
      "execution_count": 0,
      "outputs": [
        {
          "output_type": "execute_result",
          "data": {
            "text/html": [
              "<div>\n",
              "<style scoped>\n",
              "    .dataframe tbody tr th:only-of-type {\n",
              "        vertical-align: middle;\n",
              "    }\n",
              "\n",
              "    .dataframe tbody tr th {\n",
              "        vertical-align: top;\n",
              "    }\n",
              "\n",
              "    .dataframe thead th {\n",
              "        text-align: right;\n",
              "    }\n",
              "</style>\n",
              "<table border=\"1\" class=\"dataframe\">\n",
              "  <thead>\n",
              "    <tr style=\"text-align: right;\">\n",
              "      <th></th>\n",
              "      <th>NIVEIS_RENDA</th>\n",
              "      <th>TOTAL</th>\n",
              "    </tr>\n",
              "  </thead>\n",
              "  <tbody>\n",
              "    <tr>\n",
              "      <th>0</th>\n",
              "      <td>nivel1</td>\n",
              "      <td>19</td>\n",
              "    </tr>\n",
              "    <tr>\n",
              "      <th>1</th>\n",
              "      <td>nivel2</td>\n",
              "      <td>9</td>\n",
              "    </tr>\n",
              "    <tr>\n",
              "      <th>2</th>\n",
              "      <td>nivel3</td>\n",
              "      <td>12</td>\n",
              "    </tr>\n",
              "    <tr>\n",
              "      <th>3</th>\n",
              "      <td>nivel4</td>\n",
              "      <td>9</td>\n",
              "    </tr>\n",
              "    <tr>\n",
              "      <th>4</th>\n",
              "      <td>nivel5</td>\n",
              "      <td>12</td>\n",
              "    </tr>\n",
              "    <tr>\n",
              "      <th>5</th>\n",
              "      <td>nivel6</td>\n",
              "      <td>26</td>\n",
              "    </tr>\n",
              "    <tr>\n",
              "      <th>6</th>\n",
              "      <td>nivel7</td>\n",
              "      <td>25</td>\n",
              "    </tr>\n",
              "    <tr>\n",
              "      <th>7</th>\n",
              "      <td>nivel8</td>\n",
              "      <td>14</td>\n",
              "    </tr>\n",
              "    <tr>\n",
              "      <th>8</th>\n",
              "      <td>nivel9</td>\n",
              "      <td>0</td>\n",
              "    </tr>\n",
              "  </tbody>\n",
              "</table>\n",
              "</div>"
            ],
            "text/plain": [
              "  NIVEIS_RENDA  TOTAL\n",
              "0       nivel1     19\n",
              "1       nivel2      9\n",
              "2       nivel3     12\n",
              "3       nivel4      9\n",
              "4       nivel5     12\n",
              "5       nivel6     26\n",
              "6       nivel7     25\n",
              "7       nivel8     14\n",
              "8       nivel9      0"
            ]
          },
          "metadata": {
            "tags": []
          },
          "execution_count": 11
        }
      ]
    },
    {
      "cell_type": "markdown",
      "metadata": {
        "id": "FZsMF8Y5a7tG",
        "colab_type": "text"
      },
      "source": [
        "## Curso\n"
      ]
    },
    {
      "cell_type": "code",
      "metadata": {
        "id": "cLjS7psGUvNm",
        "colab_type": "code",
        "outputId": "a9f6525c-4fb4-4195-e60c-d422b45ce528",
        "colab": {
          "base_uri": "https://localhost:8080/",
          "height": 204
        }
      },
      "source": [
        "# CONTAGEM POR TIPO DE CURSO\n",
        "contagem_curso = dados[\"CURSO\"].value_counts().to_frame().reset_index() \n",
        "contagem_curso.columns = [\"CURSO\", \"TOTAL\"]\n",
        "contagem_curso.head()  # visualização os 5 primeiros registros\n",
        "#contagem_curso  # visualização todos os registros\n",
        "\n",
        "# reset_index => transforma o índice em coluna"
      ],
      "execution_count": 0,
      "outputs": [
        {
          "output_type": "execute_result",
          "data": {
            "text/html": [
              "<div>\n",
              "<style scoped>\n",
              "    .dataframe tbody tr th:only-of-type {\n",
              "        vertical-align: middle;\n",
              "    }\n",
              "\n",
              "    .dataframe tbody tr th {\n",
              "        vertical-align: top;\n",
              "    }\n",
              "\n",
              "    .dataframe thead th {\n",
              "        text-align: right;\n",
              "    }\n",
              "</style>\n",
              "<table border=\"1\" class=\"dataframe\">\n",
              "  <thead>\n",
              "    <tr style=\"text-align: right;\">\n",
              "      <th></th>\n",
              "      <th>CURSO</th>\n",
              "      <th>TOTAL</th>\n",
              "    </tr>\n",
              "  </thead>\n",
              "  <tbody>\n",
              "    <tr>\n",
              "      <th>0</th>\n",
              "      <td>Licenciatura Plena em Letras - Língua Brasilei...</td>\n",
              "      <td>13</td>\n",
              "    </tr>\n",
              "    <tr>\n",
              "      <th>1</th>\n",
              "      <td>Licenciatura Plena em Física</td>\n",
              "      <td>7</td>\n",
              "    </tr>\n",
              "    <tr>\n",
              "      <th>2</th>\n",
              "      <td>Direito</td>\n",
              "      <td>7</td>\n",
              "    </tr>\n",
              "    <tr>\n",
              "      <th>3</th>\n",
              "      <td>Licenciatura Plena em Pedagogia</td>\n",
              "      <td>7</td>\n",
              "    </tr>\n",
              "    <tr>\n",
              "      <th>4</th>\n",
              "      <td>Licenciatura Plena em Geografia</td>\n",
              "      <td>6</td>\n",
              "    </tr>\n",
              "  </tbody>\n",
              "</table>\n",
              "</div>"
            ],
            "text/plain": [
              "                                               CURSO  TOTAL\n",
              "0  Licenciatura Plena em Letras - Língua Brasilei...     13\n",
              "1                       Licenciatura Plena em Física      7\n",
              "2                                            Direito      7\n",
              "3                    Licenciatura Plena em Pedagogia      7\n",
              "4                    Licenciatura Plena em Geografia      6"
            ]
          },
          "metadata": {
            "tags": []
          },
          "execution_count": 12
        }
      ]
    },
    {
      "cell_type": "markdown",
      "metadata": {
        "id": "9b7gmTOPUzcP",
        "colab_type": "text"
      },
      "source": [
        "## Tipo de Escola"
      ]
    },
    {
      "cell_type": "code",
      "metadata": {
        "id": "-wFzjLHjUxt5",
        "colab_type": "code",
        "outputId": "704c53f2-cd00-46dd-fb27-03a12adbbfee",
        "colab": {
          "base_uri": "https://localhost:8080/",
          "height": 111
        }
      },
      "source": [
        "# CONTAGEM POR TIPO DE ESCOLA\n",
        "contagem_escola = dados[\"ESCOLA\"].value_counts().to_frame().reset_index() \n",
        "contagem_escola.columns = [\"ESCOLA\", \"TOTAL\"]\n",
        "contagem_escola.head()  # lista os 5 primeiros registros"
      ],
      "execution_count": 0,
      "outputs": [
        {
          "output_type": "execute_result",
          "data": {
            "text/html": [
              "<div>\n",
              "<style scoped>\n",
              "    .dataframe tbody tr th:only-of-type {\n",
              "        vertical-align: middle;\n",
              "    }\n",
              "\n",
              "    .dataframe tbody tr th {\n",
              "        vertical-align: top;\n",
              "    }\n",
              "\n",
              "    .dataframe thead th {\n",
              "        text-align: right;\n",
              "    }\n",
              "</style>\n",
              "<table border=\"1\" class=\"dataframe\">\n",
              "  <thead>\n",
              "    <tr style=\"text-align: right;\">\n",
              "      <th></th>\n",
              "      <th>ESCOLA</th>\n",
              "      <th>TOTAL</th>\n",
              "    </tr>\n",
              "  </thead>\n",
              "  <tbody>\n",
              "    <tr>\n",
              "      <th>0</th>\n",
              "      <td>Publica</td>\n",
              "      <td>118</td>\n",
              "    </tr>\n",
              "    <tr>\n",
              "      <th>1</th>\n",
              "      <td>Privada</td>\n",
              "      <td>8</td>\n",
              "    </tr>\n",
              "  </tbody>\n",
              "</table>\n",
              "</div>"
            ],
            "text/plain": [
              "    ESCOLA  TOTAL\n",
              "0  Publica    118\n",
              "1  Privada      8"
            ]
          },
          "metadata": {
            "tags": []
          },
          "execution_count": 13
        }
      ]
    },
    {
      "cell_type": "markdown",
      "metadata": {
        "id": "YvBVBrUBU5NK",
        "colab_type": "text"
      },
      "source": [
        "## Forma de Ingresso"
      ]
    },
    {
      "cell_type": "code",
      "metadata": {
        "id": "luoNprKZU2y4",
        "colab_type": "code",
        "outputId": "9671d546-c426-406e-9663-b73eafd5d52c",
        "colab": {
          "base_uri": "https://localhost:8080/",
          "height": 204
        }
      },
      "source": [
        "# CONTAGEM POR FORMA DE INGRESSO\n",
        "contagem_ingresso = dados[\"INGRESSO\"].value_counts().to_frame().reset_index() \n",
        "contagem_ingresso.columns = [\"INGRESSO\", \"TOTAL\"]\n",
        "contagem_curso.head()  # lista os 5 primeiros registros\n",
        "#contagem_curso  # lista todos os registros\n"
      ],
      "execution_count": 0,
      "outputs": [
        {
          "output_type": "execute_result",
          "data": {
            "text/html": [
              "<div>\n",
              "<style scoped>\n",
              "    .dataframe tbody tr th:only-of-type {\n",
              "        vertical-align: middle;\n",
              "    }\n",
              "\n",
              "    .dataframe tbody tr th {\n",
              "        vertical-align: top;\n",
              "    }\n",
              "\n",
              "    .dataframe thead th {\n",
              "        text-align: right;\n",
              "    }\n",
              "</style>\n",
              "<table border=\"1\" class=\"dataframe\">\n",
              "  <thead>\n",
              "    <tr style=\"text-align: right;\">\n",
              "      <th></th>\n",
              "      <th>INGRESSO</th>\n",
              "      <th>TOTAL</th>\n",
              "    </tr>\n",
              "  </thead>\n",
              "  <tbody>\n",
              "    <tr>\n",
              "      <th>0</th>\n",
              "      <td>SISU - PPI1 (Esc. Pub., Renda até 1.5)</td>\n",
              "      <td>37</td>\n",
              "    </tr>\n",
              "    <tr>\n",
              "      <th>1</th>\n",
              "      <td>PSC - PPI1 (Esc. Pub., Renda até 1.5)</td>\n",
              "      <td>20</td>\n",
              "    </tr>\n",
              "    <tr>\n",
              "      <th>2</th>\n",
              "      <td>SISU - AC (Ampla Concorrência)</td>\n",
              "      <td>13</td>\n",
              "    </tr>\n",
              "    <tr>\n",
              "      <th>3</th>\n",
              "      <td>SISU - PPI2 (Esc. Pub., Independe Renda)</td>\n",
              "      <td>11</td>\n",
              "    </tr>\n",
              "    <tr>\n",
              "      <th>4</th>\n",
              "      <td>PSC - AC (Ampla Concorrência)</td>\n",
              "      <td>9</td>\n",
              "    </tr>\n",
              "  </tbody>\n",
              "</table>\n",
              "</div>"
            ],
            "text/plain": [
              "                                   INGRESSO  TOTAL\n",
              "0    SISU - PPI1 (Esc. Pub., Renda até 1.5)     37\n",
              "1     PSC - PPI1 (Esc. Pub., Renda até 1.5)     20\n",
              "2            SISU - AC (Ampla Concorrência)     13\n",
              "3  SISU - PPI2 (Esc. Pub., Independe Renda)     11\n",
              "4             PSC - AC (Ampla Concorrência)      9"
            ]
          },
          "metadata": {
            "tags": []
          },
          "execution_count": 14
        }
      ]
    },
    {
      "cell_type": "markdown",
      "metadata": {
        "id": "pHCEtxHBU9jk",
        "colab_type": "text"
      },
      "source": [
        "## Moradia"
      ]
    },
    {
      "cell_type": "code",
      "metadata": {
        "id": "xuJ3gNHEU57R",
        "colab_type": "code",
        "outputId": "e824464a-e141-472a-91af-c42a800bb1f1",
        "colab": {
          "base_uri": "https://localhost:8080/",
          "height": 204
        }
      },
      "source": [
        "# CONTAGEM POR TIPO DE MORADIA\n",
        "contagem_moradia = dados[\"MORADIA\"].value_counts().to_frame().reset_index() \n",
        "contagem_moradia.columns = [\"MORADIA\", \"TOTAL\"]\n",
        "contagem_moradia.head() # lista os 5 primeiros registros\n",
        "#contagem_moradia # lista todos os registros"
      ],
      "execution_count": 0,
      "outputs": [
        {
          "output_type": "execute_result",
          "data": {
            "text/html": [
              "<div>\n",
              "<style scoped>\n",
              "    .dataframe tbody tr th:only-of-type {\n",
              "        vertical-align: middle;\n",
              "    }\n",
              "\n",
              "    .dataframe tbody tr th {\n",
              "        vertical-align: top;\n",
              "    }\n",
              "\n",
              "    .dataframe thead th {\n",
              "        text-align: right;\n",
              "    }\n",
              "</style>\n",
              "<table border=\"1\" class=\"dataframe\">\n",
              "  <thead>\n",
              "    <tr style=\"text-align: right;\">\n",
              "      <th></th>\n",
              "      <th>MORADIA</th>\n",
              "      <th>TOTAL</th>\n",
              "    </tr>\n",
              "  </thead>\n",
              "  <tbody>\n",
              "    <tr>\n",
              "      <th>0</th>\n",
              "      <td>Próprio</td>\n",
              "      <td>46</td>\n",
              "    </tr>\n",
              "    <tr>\n",
              "      <th>1</th>\n",
              "      <td>Alugado</td>\n",
              "      <td>40</td>\n",
              "    </tr>\n",
              "    <tr>\n",
              "      <th>2</th>\n",
              "      <td>Cedido</td>\n",
              "      <td>18</td>\n",
              "    </tr>\n",
              "    <tr>\n",
              "      <th>3</th>\n",
              "      <td>Outros</td>\n",
              "      <td>18</td>\n",
              "    </tr>\n",
              "    <tr>\n",
              "      <th>4</th>\n",
              "      <td>Imóvel Financiado</td>\n",
              "      <td>4</td>\n",
              "    </tr>\n",
              "  </tbody>\n",
              "</table>\n",
              "</div>"
            ],
            "text/plain": [
              "             MORADIA  TOTAL\n",
              "0            Próprio     46\n",
              "1            Alugado     40\n",
              "2             Cedido     18\n",
              "3             Outros     18\n",
              "4  Imóvel Financiado      4"
            ]
          },
          "metadata": {
            "tags": []
          },
          "execution_count": 15
        }
      ]
    },
    {
      "cell_type": "markdown",
      "metadata": {
        "id": "Mnh0UKYlVBGf",
        "colab_type": "text"
      },
      "source": [
        "## Bolsa Família"
      ]
    },
    {
      "cell_type": "code",
      "metadata": {
        "id": "EmgV-2wlU-Mx",
        "colab_type": "code",
        "outputId": "49e19c89-911b-4910-ff66-97c8b487db6b",
        "colab": {
          "base_uri": "https://localhost:8080/",
          "height": 111
        }
      },
      "source": [
        "# CONTAGEM POR BOLSA FAMÍLIA\n",
        "contagem_bolsa = dados[\"BOLSA_FAMILIA\"].value_counts().to_frame().reset_index() \n",
        "contagem_bolsa.columns = [\"BOLSA_FAMILIA\", \"TOTAL\"]\n",
        "contagem_bolsa.head()"
      ],
      "execution_count": 0,
      "outputs": [
        {
          "output_type": "execute_result",
          "data": {
            "text/html": [
              "<div>\n",
              "<style scoped>\n",
              "    .dataframe tbody tr th:only-of-type {\n",
              "        vertical-align: middle;\n",
              "    }\n",
              "\n",
              "    .dataframe tbody tr th {\n",
              "        vertical-align: top;\n",
              "    }\n",
              "\n",
              "    .dataframe thead th {\n",
              "        text-align: right;\n",
              "    }\n",
              "</style>\n",
              "<table border=\"1\" class=\"dataframe\">\n",
              "  <thead>\n",
              "    <tr style=\"text-align: right;\">\n",
              "      <th></th>\n",
              "      <th>BOLSA_FAMILIA</th>\n",
              "      <th>TOTAL</th>\n",
              "    </tr>\n",
              "  </thead>\n",
              "  <tbody>\n",
              "    <tr>\n",
              "      <th>0</th>\n",
              "      <td>Não</td>\n",
              "      <td>110</td>\n",
              "    </tr>\n",
              "    <tr>\n",
              "      <th>1</th>\n",
              "      <td>Sim</td>\n",
              "      <td>16</td>\n",
              "    </tr>\n",
              "  </tbody>\n",
              "</table>\n",
              "</div>"
            ],
            "text/plain": [
              "  BOLSA_FAMILIA  TOTAL\n",
              "0           Não    110\n",
              "1           Sim     16"
            ]
          },
          "metadata": {
            "tags": []
          },
          "execution_count": 16
        }
      ]
    },
    {
      "cell_type": "markdown",
      "metadata": {
        "id": "fZ4pam_pVFv4",
        "colab_type": "text"
      },
      "source": [
        "# Visualização dos Dados\n",
        "---"
      ]
    },
    {
      "cell_type": "markdown",
      "metadata": {
        "id": "9BihWJfSVFYA",
        "colab_type": "text"
      },
      "source": [
        "## Renda"
      ]
    },
    {
      "cell_type": "code",
      "metadata": {
        "id": "6bP2iRTBVCKT",
        "colab_type": "code",
        "outputId": "1fface9a-790c-458e-9c09-b8a825618f6d",
        "colab": {
          "base_uri": "https://localhost:8080/",
          "height": 351
        }
      },
      "source": [
        "import seaborn as sns\n",
        "\n",
        "# plotagem do gráfico de barras\n",
        "sns.barplot(x=\"NIVEIS_RENDA\", y=\"TOTAL\", data=contagem_renda)"
      ],
      "execution_count": 0,
      "outputs": [
        {
          "output_type": "stream",
          "text": [
            "/usr/local/lib/python3.6/dist-packages/statsmodels/tools/_testing.py:19: FutureWarning: pandas.util.testing is deprecated. Use the functions in the public API at pandas.testing instead.\n",
            "  import pandas.util.testing as tm\n"
          ],
          "name": "stderr"
        },
        {
          "output_type": "execute_result",
          "data": {
            "text/plain": [
              "<matplotlib.axes._subplots.AxesSubplot at 0x7f7dc9e51320>"
            ]
          },
          "metadata": {
            "tags": []
          },
          "execution_count": 17
        },
        {
          "output_type": "display_data",
          "data": {
            "image/png": "[encoded data removed]",
            "text/plain": [
              "<Figure size 432x288 with 1 Axes>"
            ]
          },
          "metadata": {
            "tags": [],
            "needs_background": "light"
          }
        }
      ]
    },
    {
      "cell_type": "markdown",
      "metadata": {
        "id": "5gefM9p8biuw",
        "colab_type": "text"
      },
      "source": [
        "### Distribuição espacial\n",
        "\n"
      ]
    },
    {
      "cell_type": "code",
      "metadata": {
        "id": "TqCko5-mYjaf",
        "colab_type": "code",
        "colab": {}
      },
      "source": [
        "# interação para verificar o nível de renda de acordo com o valor informado\n",
        "a = []\n",
        "for item in dados['RENDA']:\n",
        "  if (item >= 0 and item <= 195.93):\n",
        "    a.append('nivel1')\n",
        "  if (item > 195.93 and item <= 223.92):\n",
        "    a.append('nivel2')\n",
        "  if (item > 223.92 and item <= 261.25):\n",
        "    a.append('nivel3')\n",
        "  if (item > 261.25 and item <= 313.50):\n",
        "    a.append('nivel4')\n",
        "  if (item > 313.50 and item <= 391.87):\n",
        "    a.append('nivel5')\n",
        "  if (item > 391.87 and item <= 522.50):\n",
        "    a.append('nivel6')\n",
        "  if (item > 522.50 and item <= 783.75):\n",
        "    a.append('nivel7')\n",
        "  if (item > 783.75 and item <= 1567.50):\n",
        "    a.append('nivel8')\n",
        "  if (item > 1567.50):\n",
        "    a.append('nivel9')"
      ],
      "execution_count": 0,
      "outputs": []
    },
    {
      "cell_type": "code",
      "metadata": {
        "id": "rfacIRaPYk8y",
        "colab_type": "code",
        "colab": {}
      },
      "source": [
        "# cria uma lista com as duas informações (niveis e valor)\n",
        "b = dados['RENDA']\n",
        "amostragem = list(zip(a,b))"
      ],
      "execution_count": 0,
      "outputs": []
    },
    {
      "cell_type": "code",
      "metadata": {
        "id": "to40RyuiZCoh",
        "colab_type": "code",
        "colab": {}
      },
      "source": [
        "#transformar lista em dataframe e atribuit nome as colunas\n",
        "amostragem_renda = pd.DataFrame(amostragem, columns=['NIVEL_RENDA', 'VALOR']) \n",
        "#amostragem_renda.head()"
      ],
      "execution_count": 0,
      "outputs": []
    },
    {
      "cell_type": "code",
      "metadata": {
        "id": "FyPr2YyIZo8f",
        "colab_type": "code",
        "outputId": "f1e8fb42-60fe-4e58-89a4-82be7359e9ce",
        "colab": {
          "base_uri": "https://localhost:8080/",
          "height": 369
        }
      },
      "source": [
        "# gráfico para visualização espacial dos valores das rendas\n",
        "tips = sns.load_dataset(\"tips\")\n",
        "sns.catplot(x=\"NIVEL_RENDA\", y=\"VALOR\", data=amostragem_renda);"
      ],
      "execution_count": 0,
      "outputs": [
        {
          "output_type": "display_data",
          "data": {
            "image/png": "[encoded data removed]",
            "text/plain": [
              "<Figure size 360x360 with 1 Axes>"
            ]
          },
          "metadata": {
            "tags": [],
            "needs_background": "light"
          }
        }
      ]
    },
    {
      "cell_type": "markdown",
      "metadata": {
        "id": "g_jM7ybkbYCj",
        "colab_type": "text"
      },
      "source": [
        "## Forma de Ingresso"
      ]
    },
    {
      "cell_type": "code",
      "metadata": {
        "id": "w1-Rj1NbVNXm",
        "colab_type": "code",
        "outputId": "a080eea6-3d11-469b-c370-b8d084016c6c",
        "colab": {
          "base_uri": "https://localhost:8080/",
          "height": 367
        }
      },
      "source": [
        "# plotagem do gráfico de barras\n",
        "sns.barplot(x=\"TOTAL\", y=\"INGRESSO\", data=contagem_ingresso)"
      ],
      "execution_count": 0,
      "outputs": [
        {
          "output_type": "execute_result",
          "data": {
            "text/plain": [
              "<matplotlib.axes._subplots.AxesSubplot at 0x7f7dc9dd7400>"
            ]
          },
          "metadata": {
            "tags": []
          },
          "execution_count": 18
        },
        {
          "output_type": "stream",
          "text": [
            "/usr/local/lib/python3.6/dist-packages/matplotlib/backends/backend_agg.py:214: RuntimeWarning: Glyph 9 missing from current font.\n",
            "  font.set_text(s, 0.0, flags=flags)\n",
            "/usr/local/lib/python3.6/dist-packages/matplotlib/backends/backend_agg.py:183: RuntimeWarning: Glyph 9 missing from current font.\n",
            "  font.set_text(s, 0, flags=flags)\n"
          ],
          "name": "stderr"
        },
        {
          "output_type": "display_data",
          "data": {
            "image/png": "[encoded data removed]",
            "text/plain": [
              "<Figure size 432x288 with 1 Axes>"
            ]
          },
          "metadata": {
            "tags": [],
            "needs_background": "light"
          }
        }
      ]
    },
    {
      "cell_type": "markdown",
      "metadata": {
        "id": "EFWiLGPoba63",
        "colab_type": "text"
      },
      "source": [
        " ## Moradia"
      ]
    },
    {
      "cell_type": "code",
      "metadata": {
        "id": "SaekVLEAVRgg",
        "colab_type": "code",
        "outputId": "f3e9cbed-26ec-4657-f951-685c40523c86",
        "colab": {
          "base_uri": "https://localhost:8080/",
          "height": 297
        }
      },
      "source": [
        "# plotagem do gráfico de barras\n",
        "sns.barplot(x=\"MORADIA\", y=\"TOTAL\", data=contagem_moradia)"
      ],
      "execution_count": 0,
      "outputs": [
        {
          "output_type": "execute_result",
          "data": {
            "text/plain": [
              "<matplotlib.axes._subplots.AxesSubplot at 0x7f7dc9cde9e8>"
            ]
          },
          "metadata": {
            "tags": []
          },
          "execution_count": 19
        },
        {
          "output_type": "display_data",
          "data": {
            "image/png": "[encoded data removed]",
            "text/plain": [
              "<Figure size 432x288 with 1 Axes>"
            ]
          },
          "metadata": {
            "tags": [],
            "needs_background": "light"
          }
        }
      ]
    }
  ]
}