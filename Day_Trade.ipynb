{
  "nbformat": 4,
  "nbformat_minor": 0,
  "metadata": {
    "colab": {
      "name": "Day_Trade.ipynb",
      "provenance": [],
      "toc_visible": true,
      "authorship_tag": "ABX9TyNrZIuM7JdZf3FieIo3g8Wi",
      "include_colab_link": true
    },
    "kernelspec": {
      "name": "python3",
      "display_name": "Python 3"
    }
  },
  "cells": [
    {
      "cell_type": "markdown",
      "metadata": {
        "id": "view-in-github",
        "colab_type": "text"
      },
      "source": [
        "<a href=\"https://colab.research.google.com/github/razevedocosta/data_analysis/blob/master/Day_Trade.ipynb\" target=\"_parent\"><img src=\"https://colab.research.google.com/assets/colab-badge.svg\" alt=\"Open In Colab\"/></a>"
      ]
    },
    {
      "cell_type": "markdown",
      "metadata": {
        "id": "4RxyjMZPFUWx",
        "colab_type": "text"
      },
      "source": [
        "# Instruções\n",
        "\n",
        "Este notebook apresenta as seguintes informações:\n",
        "1.   Resumo das operações realizadas no mês\n",
        "2.   Operações agrupadas por dia\n",
        "3.   Gráfico de pizza - taxa de acerto\n",
        "4.   Gráfico de barra - resultado por dia\n",
        "5.   Histograma do resultado líquido"
      ]
    },
    {
      "cell_type": "markdown",
      "metadata": {
        "id": "e23SOETrrq5i",
        "colab_type": "text"
      },
      "source": [
        "# Importação de Dados"
      ]
    },
    {
      "cell_type": "code",
      "metadata": {
        "id": "7q7BYzmFc6im",
        "colab_type": "code",
        "colab": {}
      },
      "source": [
        "import pandas as pd\n",
        "\n",
        "dados = pd.read_csv('trade_maio.csv', sep=\";\")\n",
        "#dados.loc[dados['Data'] == '25/05/2020']"
      ],
      "execution_count": 0,
      "outputs": []
    },
    {
      "cell_type": "markdown",
      "metadata": {
        "id": "tFLADNtjw1gu",
        "colab_type": "text"
      },
      "source": [
        "# Tratamento dos dados"
      ]
    },
    {
      "cell_type": "code",
      "metadata": {
        "id": "_CyhPX91Q7Yv",
        "colab_type": "code",
        "colab": {}
      },
      "source": [
        "# excluindo colunas desnecessárias\n",
        "dados.drop(['Qtd', 'Saldo', 'Custos', 'Result Aber', 'Result Fech', 'TET', 'MEP', 'MEN'], inplace = True, axis=1)\n",
        "#dados.head()"
      ],
      "execution_count": 0,
      "outputs": []
    },
    {
      "cell_type": "code",
      "metadata": {
        "id": "Bc6e-pa0J4Lq",
        "colab_type": "code",
        "colab": {}
      },
      "source": [
        "# replace para valores monetários\n",
        "dados['Res. Tot. Líq.'] = [x.replace(\".\", \"\") for x in dados['Res. Tot. Líq.']]\n",
        "dados['Res. Tot. Líq.'] = [x.replace(\",\", \".\") for x in dados['Res. Tot. Líq.']]\n",
        "\n",
        "dados['Res. Tot. Líq.'] = dados['Res. Tot. Líq.'].astype(float)\n",
        "\n",
        "#dados['Res. Tot. Líq.']"
      ],
      "execution_count": 0,
      "outputs": []
    },
    {
      "cell_type": "code",
      "metadata": {
        "id": "1fh9Ht7FLB69",
        "colab_type": "code",
        "colab": {}
      },
      "source": [
        "# atribuindo gain ou loss para uma nova coluna resultado\n",
        "dados['resultado'] = dados['Res. Tot. Líq.'].apply(lambda x: 'gain' if x > 0 else 'loss')\n",
        "#dados.tail()\n",
        "#dados.head()"
      ],
      "execution_count": 0,
      "outputs": []
    },
    {
      "cell_type": "markdown",
      "metadata": {
        "id": "tHIxOkjXGW1V",
        "colab_type": "text"
      },
      "source": [
        "# Resumo do Mês"
      ]
    },
    {
      "cell_type": "code",
      "metadata": {
        "id": "qjS53dbC9_Lb",
        "colab_type": "code",
        "colab": {}
      },
      "source": [
        "#dados['resultado'].unique()\n",
        "#dados['resultado'].value_counts()"
      ],
      "execution_count": 0,
      "outputs": []
    },
    {
      "cell_type": "code",
      "metadata": {
        "id": "1y-ftBRnDykU",
        "colab_type": "code",
        "colab": {}
      },
      "source": [
        "# total de operações em gain\n",
        "gain = dados.loc[dados['resultado'] == 'gain']\n",
        "gain = gain['resultado'].count()\n",
        "\n",
        "# total de operações em loss\n",
        "loss = dados.loc[dados['resultado'] == 'loss']\n",
        "loss = loss['resultado'].count()"
      ],
      "execution_count": 0,
      "outputs": []
    },
    {
      "cell_type": "code",
      "metadata": {
        "id": "mHq5Ebtjjd3i",
        "colab_type": "code",
        "outputId": "710e72be-a538-46f8-ab72-b2baaf80ec88",
        "colab": {
          "base_uri": "https://localhost:8080/",
          "height": 283
        }
      },
      "source": [
        "# criar dataframe para resumo das informações do mês\n",
        "total = dados['Papel'].count()\n",
        "maximo = dados['Res. Tot. Líq.'].max()\n",
        "minimo = dados['Res. Tot. Líq.'].min()\n",
        "total_bruto = dados['Res. Tot. Líq.'].sum()\n",
        "dias_operados = dados['Data'].unique().size\n",
        "\n",
        "descricao = {'item': ['total_ordens','gain','loss','maximo','minimo','total_bruto','dias_operados'],\n",
        "             'valor': [total, gain, loss, maximo, minimo, total_bruto, dias_operados]\n",
        "            }\n",
        "\n",
        "df = pd.DataFrame(descricao, columns = ['item', 'valor'])\n",
        "\n",
        "print(\"RESUMO DAS OPERAÇÕES DO MÊS\")\n",
        "df"
      ],
      "execution_count": 8,
      "outputs": [
        {
          "output_type": "stream",
          "text": [
            "RESUMO DAS OPERAÇÕES DO MÊS\n"
          ],
          "name": "stdout"
        },
        {
          "output_type": "execute_result",
          "data": {
            "text/html": [
              "<div>\n",
              "<style scoped>\n",
              "    .dataframe tbody tr th:only-of-type {\n",
              "        vertical-align: middle;\n",
              "    }\n",
              "\n",
              "    .dataframe tbody tr th {\n",
              "        vertical-align: top;\n",
              "    }\n",
              "\n",
              "    .dataframe thead th {\n",
              "        text-align: right;\n",
              "    }\n",
              "</style>\n",
              "<table border=\"1\" class=\"dataframe\">\n",
              "  <thead>\n",
              "    <tr style=\"text-align: right;\">\n",
              "      <th></th>\n",
              "      <th>item</th>\n",
              "      <th>valor</th>\n",
              "    </tr>\n",
              "  </thead>\n",
              "  <tbody>\n",
              "    <tr>\n",
              "      <th>0</th>\n",
              "      <td>total_ordens</td>\n",
              "      <td>111.0</td>\n",
              "    </tr>\n",
              "    <tr>\n",
              "      <th>1</th>\n",
              "      <td>gain</td>\n",
              "      <td>56.0</td>\n",
              "    </tr>\n",
              "    <tr>\n",
              "      <th>2</th>\n",
              "      <td>loss</td>\n",
              "      <td>55.0</td>\n",
              "    </tr>\n",
              "    <tr>\n",
              "      <th>3</th>\n",
              "      <td>maximo</td>\n",
              "      <td>823.0</td>\n",
              "    </tr>\n",
              "    <tr>\n",
              "      <th>4</th>\n",
              "      <td>minimo</td>\n",
              "      <td>-1050.0</td>\n",
              "    </tr>\n",
              "    <tr>\n",
              "      <th>5</th>\n",
              "      <td>total_bruto</td>\n",
              "      <td>-1026.0</td>\n",
              "    </tr>\n",
              "    <tr>\n",
              "      <th>6</th>\n",
              "      <td>dias_operados</td>\n",
              "      <td>16.0</td>\n",
              "    </tr>\n",
              "  </tbody>\n",
              "</table>\n",
              "</div>"
            ],
            "text/plain": [
              "            item   valor\n",
              "0   total_ordens   111.0\n",
              "1           gain    56.0\n",
              "2           loss    55.0\n",
              "3         maximo   823.0\n",
              "4         minimo -1050.0\n",
              "5    total_bruto -1026.0\n",
              "6  dias_operados    16.0"
            ]
          },
          "metadata": {
            "tags": []
          },
          "execution_count": 8
        }
      ]
    },
    {
      "cell_type": "markdown",
      "metadata": {
        "id": "6TE6VhuREkIV",
        "colab_type": "text"
      },
      "source": [
        "# Análises\n",
        "\n",
        "Visualização de alguns resultados quantitativos, tais como: \n",
        "**quadro geral de operações, distribuição dos resultados por dia, taxa de acerto (gain e loss)**"
      ]
    },
    {
      "cell_type": "markdown",
      "metadata": {
        "id": "D9f9kHaN-A-U",
        "colab_type": "text"
      },
      "source": [
        "## Quadro geral"
      ]
    },
    {
      "cell_type": "code",
      "metadata": {
        "id": "wd4N5vY0Pphv",
        "colab_type": "code",
        "colab": {}
      },
      "source": [
        "# total de operações realizadas por dia\n",
        "operacoes = dados.groupby(['Data'], as_index=False)['Res. Tot. Líq.'].count()\n",
        "nova_coluna = operacoes['Res. Tot. Líq.']\n",
        "\n",
        "# agrupar por data e somar o resultado líquido\n",
        "resumo = dados.groupby(['Data'], as_index=False)['Res. Tot. Líq.'].sum()\n",
        "\n",
        "# renomear o nome das colunas\n",
        "resumo.rename(columns={'Data':'data', 'Res. Tot. Líq.':'resultado'}, inplace=True)\n",
        "\n",
        "# inserir a coluna qtde_operacoes no dataFrame\n",
        "resumo.insert(loc=2, column='qtde_operacoes', value=nova_coluna)"
      ],
      "execution_count": 0,
      "outputs": []
    },
    {
      "cell_type": "code",
      "metadata": {
        "id": "6BFVQ3B3iYTk",
        "colab_type": "code",
        "colab": {}
      },
      "source": [
        "#grupo_data = dados.groupby('Data')\n",
        "#for data, dados in grupo_data: \n",
        "#print(data)\n",
        "#for data, dados in grupo_data: \n",
        "#    print('{} -> {}'.format(data, dados['Res. Tot. Líq.'].count()))"
      ],
      "execution_count": 0,
      "outputs": []
    },
    {
      "cell_type": "code",
      "metadata": {
        "id": "HzAHfCJuiX4x",
        "colab_type": "code",
        "colab": {}
      },
      "source": [
        "dados[['Data', 'Res. Tot. Líq.']]\n",
        "\n",
        "# total de operações com gain\n",
        "dfGain = dados.loc[dados['resultado'] == 'gain']\n",
        "gain = dfGain.groupby(['Data'], as_index=False)['resultado'].count()"
      ],
      "execution_count": 0,
      "outputs": []
    },
    {
      "cell_type": "code",
      "metadata": {
        "id": "fhl_1mG8t7Ou",
        "colab_type": "code",
        "colab": {}
      },
      "source": [
        "# total de operações com loss\n",
        "dfLoss = dados.loc[dados['resultado'] == 'loss']\n",
        "loss = dfLoss.groupby(['Data'], as_index=False)['resultado'].count()"
      ],
      "execution_count": 0,
      "outputs": []
    },
    {
      "cell_type": "code",
      "metadata": {
        "id": "drWzWY9zqkau",
        "colab_type": "code",
        "colab": {}
      },
      "source": [
        "# inserir as colunas gain e loss no dataFrame\n",
        "resumo.insert(loc=3, column='gain', value=gain['resultado'])\n",
        "resumo.insert(loc=4, column='loss', value=loss['resultado'])"
      ],
      "execution_count": 0,
      "outputs": []
    },
    {
      "cell_type": "code",
      "metadata": {
        "id": "Xj7wZIVu35Fu",
        "colab_type": "code",
        "colab": {}
      },
      "source": [
        "resumo.set_index('data', inplace=True)\n",
        "resumo['gain'] = gain.set_index('Data')['resultado']\n",
        "resumo['loss'] = loss.set_index('Data')['resultado']"
      ],
      "execution_count": 0,
      "outputs": []
    },
    {
      "cell_type": "code",
      "metadata": {
        "id": "cNX0TmQcoEdE",
        "colab_type": "code",
        "outputId": "d68ab2b8-d57f-4279-94ce-54fedf36c49a",
        "colab": {
          "base_uri": "https://localhost:8080/",
          "height": 593
        }
      },
      "source": [
        "print(\"QUADRO GERAL DE OPERAÇÕES\")\n",
        "resumo"
      ],
      "execution_count": 15,
      "outputs": [
        {
          "output_type": "stream",
          "text": [
            "QUADRO GERAL DE OPERAÇÕES\n"
          ],
          "name": "stdout"
        },
        {
          "output_type": "execute_result",
          "data": {
            "text/html": [
              "<div>\n",
              "<style scoped>\n",
              "    .dataframe tbody tr th:only-of-type {\n",
              "        vertical-align: middle;\n",
              "    }\n",
              "\n",
              "    .dataframe tbody tr th {\n",
              "        vertical-align: top;\n",
              "    }\n",
              "\n",
              "    .dataframe thead th {\n",
              "        text-align: right;\n",
              "    }\n",
              "</style>\n",
              "<table border=\"1\" class=\"dataframe\">\n",
              "  <thead>\n",
              "    <tr style=\"text-align: right;\">\n",
              "      <th></th>\n",
              "      <th>resultado</th>\n",
              "      <th>qtde_operacoes</th>\n",
              "      <th>gain</th>\n",
              "      <th>loss</th>\n",
              "    </tr>\n",
              "    <tr>\n",
              "      <th>data</th>\n",
              "      <th></th>\n",
              "      <th></th>\n",
              "      <th></th>\n",
              "      <th></th>\n",
              "    </tr>\n",
              "  </thead>\n",
              "  <tbody>\n",
              "    <tr>\n",
              "      <th>05/05/2020</th>\n",
              "      <td>-796.0</td>\n",
              "      <td>42</td>\n",
              "      <td>17.0</td>\n",
              "      <td>25.0</td>\n",
              "    </tr>\n",
              "    <tr>\n",
              "      <th>06/05/2020</th>\n",
              "      <td>-620.0</td>\n",
              "      <td>5</td>\n",
              "      <td>2.0</td>\n",
              "      <td>3.0</td>\n",
              "    </tr>\n",
              "    <tr>\n",
              "      <th>07/05/2020</th>\n",
              "      <td>-148.0</td>\n",
              "      <td>12</td>\n",
              "      <td>4.0</td>\n",
              "      <td>8.0</td>\n",
              "    </tr>\n",
              "    <tr>\n",
              "      <th>08/05/2020</th>\n",
              "      <td>24.0</td>\n",
              "      <td>4</td>\n",
              "      <td>2.0</td>\n",
              "      <td>2.0</td>\n",
              "    </tr>\n",
              "    <tr>\n",
              "      <th>11/05/2020</th>\n",
              "      <td>142.0</td>\n",
              "      <td>4</td>\n",
              "      <td>3.0</td>\n",
              "      <td>1.0</td>\n",
              "    </tr>\n",
              "    <tr>\n",
              "      <th>13/05/2020</th>\n",
              "      <td>-71.0</td>\n",
              "      <td>7</td>\n",
              "      <td>4.0</td>\n",
              "      <td>3.0</td>\n",
              "    </tr>\n",
              "    <tr>\n",
              "      <th>14/05/2020</th>\n",
              "      <td>-96.0</td>\n",
              "      <td>11</td>\n",
              "      <td>5.0</td>\n",
              "      <td>6.0</td>\n",
              "    </tr>\n",
              "    <tr>\n",
              "      <th>15/05/2020</th>\n",
              "      <td>-82.0</td>\n",
              "      <td>1</td>\n",
              "      <td>NaN</td>\n",
              "      <td>1.0</td>\n",
              "    </tr>\n",
              "    <tr>\n",
              "      <th>19/05/2020</th>\n",
              "      <td>24.0</td>\n",
              "      <td>4</td>\n",
              "      <td>2.0</td>\n",
              "      <td>2.0</td>\n",
              "    </tr>\n",
              "    <tr>\n",
              "      <th>20/05/2020</th>\n",
              "      <td>22.0</td>\n",
              "      <td>2</td>\n",
              "      <td>2.0</td>\n",
              "      <td>NaN</td>\n",
              "    </tr>\n",
              "    <tr>\n",
              "      <th>21/05/2020</th>\n",
              "      <td>26.0</td>\n",
              "      <td>2</td>\n",
              "      <td>2.0</td>\n",
              "      <td>NaN</td>\n",
              "    </tr>\n",
              "    <tr>\n",
              "      <th>22/05/2020</th>\n",
              "      <td>74.0</td>\n",
              "      <td>2</td>\n",
              "      <td>1.0</td>\n",
              "      <td>1.0</td>\n",
              "    </tr>\n",
              "    <tr>\n",
              "      <th>25/05/2020</th>\n",
              "      <td>66.0</td>\n",
              "      <td>1</td>\n",
              "      <td>1.0</td>\n",
              "      <td>NaN</td>\n",
              "    </tr>\n",
              "    <tr>\n",
              "      <th>26/05/2020</th>\n",
              "      <td>148.0</td>\n",
              "      <td>6</td>\n",
              "      <td>4.0</td>\n",
              "      <td>2.0</td>\n",
              "    </tr>\n",
              "    <tr>\n",
              "      <th>27/05/2020</th>\n",
              "      <td>71.0</td>\n",
              "      <td>6</td>\n",
              "      <td>5.0</td>\n",
              "      <td>1.0</td>\n",
              "    </tr>\n",
              "    <tr>\n",
              "      <th>28/05/2020</th>\n",
              "      <td>190.0</td>\n",
              "      <td>2</td>\n",
              "      <td>2.0</td>\n",
              "      <td>NaN</td>\n",
              "    </tr>\n",
              "  </tbody>\n",
              "</table>\n",
              "</div>"
            ],
            "text/plain": [
              "            resultado  qtde_operacoes  gain  loss\n",
              "data                                             \n",
              "05/05/2020     -796.0              42  17.0  25.0\n",
              "06/05/2020     -620.0               5   2.0   3.0\n",
              "07/05/2020     -148.0              12   4.0   8.0\n",
              "08/05/2020       24.0               4   2.0   2.0\n",
              "11/05/2020      142.0               4   3.0   1.0\n",
              "13/05/2020      -71.0               7   4.0   3.0\n",
              "14/05/2020      -96.0              11   5.0   6.0\n",
              "15/05/2020      -82.0               1   NaN   1.0\n",
              "19/05/2020       24.0               4   2.0   2.0\n",
              "20/05/2020       22.0               2   2.0   NaN\n",
              "21/05/2020       26.0               2   2.0   NaN\n",
              "22/05/2020       74.0               2   1.0   1.0\n",
              "25/05/2020       66.0               1   1.0   NaN\n",
              "26/05/2020      148.0               6   4.0   2.0\n",
              "27/05/2020       71.0               6   5.0   1.0\n",
              "28/05/2020      190.0               2   2.0   NaN"
            ]
          },
          "metadata": {
            "tags": []
          },
          "execution_count": 15
        }
      ]
    },
    {
      "cell_type": "markdown",
      "metadata": {
        "id": "gjy-qKBpQ_HN",
        "colab_type": "text"
      },
      "source": [
        "*OBS: Apresentando erro na contagem dos últimos dias*"
      ]
    },
    {
      "cell_type": "code",
      "metadata": {
        "id": "LMxMTn3-GR-t",
        "colab_type": "code",
        "outputId": "37c6c0a4-7d34-47a8-fb82-f5e83f570b39",
        "colab": {
          "base_uri": "https://localhost:8080/",
          "height": 576
        }
      },
      "source": [
        "# inserir valor 0 quando não há quantidade de gain ou loss\n",
        "resumo.fillna(0)"
      ],
      "execution_count": 16,
      "outputs": [
        {
          "output_type": "execute_result",
          "data": {
            "text/html": [
              "<div>\n",
              "<style scoped>\n",
              "    .dataframe tbody tr th:only-of-type {\n",
              "        vertical-align: middle;\n",
              "    }\n",
              "\n",
              "    .dataframe tbody tr th {\n",
              "        vertical-align: top;\n",
              "    }\n",
              "\n",
              "    .dataframe thead th {\n",
              "        text-align: right;\n",
              "    }\n",
              "</style>\n",
              "<table border=\"1\" class=\"dataframe\">\n",
              "  <thead>\n",
              "    <tr style=\"text-align: right;\">\n",
              "      <th></th>\n",
              "      <th>resultado</th>\n",
              "      <th>qtde_operacoes</th>\n",
              "      <th>gain</th>\n",
              "      <th>loss</th>\n",
              "    </tr>\n",
              "    <tr>\n",
              "      <th>data</th>\n",
              "      <th></th>\n",
              "      <th></th>\n",
              "      <th></th>\n",
              "      <th></th>\n",
              "    </tr>\n",
              "  </thead>\n",
              "  <tbody>\n",
              "    <tr>\n",
              "      <th>05/05/2020</th>\n",
              "      <td>-796.0</td>\n",
              "      <td>42</td>\n",
              "      <td>17.0</td>\n",
              "      <td>25.0</td>\n",
              "    </tr>\n",
              "    <tr>\n",
              "      <th>06/05/2020</th>\n",
              "      <td>-620.0</td>\n",
              "      <td>5</td>\n",
              "      <td>2.0</td>\n",
              "      <td>3.0</td>\n",
              "    </tr>\n",
              "    <tr>\n",
              "      <th>07/05/2020</th>\n",
              "      <td>-148.0</td>\n",
              "      <td>12</td>\n",
              "      <td>4.0</td>\n",
              "      <td>8.0</td>\n",
              "    </tr>\n",
              "    <tr>\n",
              "      <th>08/05/2020</th>\n",
              "      <td>24.0</td>\n",
              "      <td>4</td>\n",
              "      <td>2.0</td>\n",
              "      <td>2.0</td>\n",
              "    </tr>\n",
              "    <tr>\n",
              "      <th>11/05/2020</th>\n",
              "      <td>142.0</td>\n",
              "      <td>4</td>\n",
              "      <td>3.0</td>\n",
              "      <td>1.0</td>\n",
              "    </tr>\n",
              "    <tr>\n",
              "      <th>13/05/2020</th>\n",
              "      <td>-71.0</td>\n",
              "      <td>7</td>\n",
              "      <td>4.0</td>\n",
              "      <td>3.0</td>\n",
              "    </tr>\n",
              "    <tr>\n",
              "      <th>14/05/2020</th>\n",
              "      <td>-96.0</td>\n",
              "      <td>11</td>\n",
              "      <td>5.0</td>\n",
              "      <td>6.0</td>\n",
              "    </tr>\n",
              "    <tr>\n",
              "      <th>15/05/2020</th>\n",
              "      <td>-82.0</td>\n",
              "      <td>1</td>\n",
              "      <td>0.0</td>\n",
              "      <td>1.0</td>\n",
              "    </tr>\n",
              "    <tr>\n",
              "      <th>19/05/2020</th>\n",
              "      <td>24.0</td>\n",
              "      <td>4</td>\n",
              "      <td>2.0</td>\n",
              "      <td>2.0</td>\n",
              "    </tr>\n",
              "    <tr>\n",
              "      <th>20/05/2020</th>\n",
              "      <td>22.0</td>\n",
              "      <td>2</td>\n",
              "      <td>2.0</td>\n",
              "      <td>0.0</td>\n",
              "    </tr>\n",
              "    <tr>\n",
              "      <th>21/05/2020</th>\n",
              "      <td>26.0</td>\n",
              "      <td>2</td>\n",
              "      <td>2.0</td>\n",
              "      <td>0.0</td>\n",
              "    </tr>\n",
              "    <tr>\n",
              "      <th>22/05/2020</th>\n",
              "      <td>74.0</td>\n",
              "      <td>2</td>\n",
              "      <td>1.0</td>\n",
              "      <td>1.0</td>\n",
              "    </tr>\n",
              "    <tr>\n",
              "      <th>25/05/2020</th>\n",
              "      <td>66.0</td>\n",
              "      <td>1</td>\n",
              "      <td>1.0</td>\n",
              "      <td>0.0</td>\n",
              "    </tr>\n",
              "    <tr>\n",
              "      <th>26/05/2020</th>\n",
              "      <td>148.0</td>\n",
              "      <td>6</td>\n",
              "      <td>4.0</td>\n",
              "      <td>2.0</td>\n",
              "    </tr>\n",
              "    <tr>\n",
              "      <th>27/05/2020</th>\n",
              "      <td>71.0</td>\n",
              "      <td>6</td>\n",
              "      <td>5.0</td>\n",
              "      <td>1.0</td>\n",
              "    </tr>\n",
              "    <tr>\n",
              "      <th>28/05/2020</th>\n",
              "      <td>190.0</td>\n",
              "      <td>2</td>\n",
              "      <td>2.0</td>\n",
              "      <td>0.0</td>\n",
              "    </tr>\n",
              "  </tbody>\n",
              "</table>\n",
              "</div>"
            ],
            "text/plain": [
              "            resultado  qtde_operacoes  gain  loss\n",
              "data                                             \n",
              "05/05/2020     -796.0              42  17.0  25.0\n",
              "06/05/2020     -620.0               5   2.0   3.0\n",
              "07/05/2020     -148.0              12   4.0   8.0\n",
              "08/05/2020       24.0               4   2.0   2.0\n",
              "11/05/2020      142.0               4   3.0   1.0\n",
              "13/05/2020      -71.0               7   4.0   3.0\n",
              "14/05/2020      -96.0              11   5.0   6.0\n",
              "15/05/2020      -82.0               1   0.0   1.0\n",
              "19/05/2020       24.0               4   2.0   2.0\n",
              "20/05/2020       22.0               2   2.0   0.0\n",
              "21/05/2020       26.0               2   2.0   0.0\n",
              "22/05/2020       74.0               2   1.0   1.0\n",
              "25/05/2020       66.0               1   1.0   0.0\n",
              "26/05/2020      148.0               6   4.0   2.0\n",
              "27/05/2020       71.0               6   5.0   1.0\n",
              "28/05/2020      190.0               2   2.0   0.0"
            ]
          },
          "metadata": {
            "tags": []
          },
          "execution_count": 16
        }
      ]
    },
    {
      "cell_type": "markdown",
      "metadata": {
        "id": "2McbvDaZGArZ",
        "colab_type": "text"
      },
      "source": [
        "## Pay off das operações"
      ]
    },
    {
      "cell_type": "code",
      "metadata": {
        "id": "5-7Odb-Xp2Hv",
        "colab_type": "code",
        "outputId": "664a0e57-7534-4dc2-fc8c-1f4bda65bbc4",
        "colab": {
          "base_uri": "https://localhost:8080/",
          "height": 34
        }
      },
      "source": [
        "# media dos trades que foram positivos\n",
        "queryGain = resumo.query('resultado > 0')\n",
        "mediaGain = queryGain.resultado.mean()\n",
        "mediaGain"
      ],
      "execution_count": 17,
      "outputs": [
        {
          "output_type": "execute_result",
          "data": {
            "text/plain": [
              "78.7"
            ]
          },
          "metadata": {
            "tags": []
          },
          "execution_count": 17
        }
      ]
    },
    {
      "cell_type": "code",
      "metadata": {
        "id": "ClfdNuBoZxdy",
        "colab_type": "code",
        "outputId": "9ac97a4f-b6a4-4888-8985-7a223ad6308c",
        "colab": {
          "base_uri": "https://localhost:8080/",
          "height": 34
        }
      },
      "source": [
        "# media dos trades que foram negativos\n",
        "queryLoss = resumo.query('resultado < 0')\n",
        "mediaLoss = queryLoss.resultado.mean()\n",
        "abs(mediaLoss)"
      ],
      "execution_count": 18,
      "outputs": [
        {
          "output_type": "execute_result",
          "data": {
            "text/plain": [
              "302.1666666666667"
            ]
          },
          "metadata": {
            "tags": []
          },
          "execution_count": 18
        }
      ]
    },
    {
      "cell_type": "code",
      "metadata": {
        "id": "o7V_4YeGZ_ZT",
        "colab_type": "code",
        "outputId": "7920c234-02c8-40b2-f755-5ffc87adabea",
        "colab": {
          "base_uri": "https://localhost:8080/",
          "height": 51
        }
      },
      "source": [
        "# payoff\n",
        "pay = mediaGain / abs(mediaLoss)\n",
        "print(\"PAYOFF\")\n",
        "round(pay, 2)"
      ],
      "execution_count": 19,
      "outputs": [
        {
          "output_type": "stream",
          "text": [
            "PAYOFF\n"
          ],
          "name": "stdout"
        },
        {
          "output_type": "execute_result",
          "data": {
            "text/plain": [
              "0.26"
            ]
          },
          "metadata": {
            "tags": []
          },
          "execution_count": 19
        }
      ]
    },
    {
      "cell_type": "markdown",
      "metadata": {
        "id": "li2yn8YAGFFw",
        "colab_type": "text"
      },
      "source": [
        "## Faixa de pontos"
      ]
    },
    {
      "cell_type": "code",
      "metadata": {
        "id": "iPvCrKTE6xr4",
        "colab_type": "code",
        "colab": {}
      },
      "source": [
        "# faixas de pontos\n",
        "classes = [-400, -300, -200, -100, 0, 100, 200, 300]\n",
        "faixa_pontos = pd.cut(dados['Res. Tot. Líq.'], classes)\n",
        "\n",
        "pd.value_counts(faixa_pontos)\n",
        "\n",
        "labels = ['-300', '-200', '-100', '0', '100', '200', '300']\n",
        "faixa_pontos = pd.cut(dados['Res. Tot. Líq.'], classes, labels=labels)\n",
        "#faixa_pontos"
      ],
      "execution_count": 0,
      "outputs": []
    },
    {
      "cell_type": "code",
      "metadata": {
        "id": "V9Emzg1TTtU5",
        "colab_type": "code",
        "outputId": "711190d7-6026-43b2-a8be-41020d310623",
        "colab": {
          "base_uri": "https://localhost:8080/",
          "height": 34
        }
      },
      "source": [
        "pd.value_counts(faixa_pontos).sum()"
      ],
      "execution_count": 21,
      "outputs": [
        {
          "output_type": "execute_result",
          "data": {
            "text/plain": [
              "108"
            ]
          },
          "metadata": {
            "tags": []
          },
          "execution_count": 21
        }
      ]
    },
    {
      "cell_type": "code",
      "metadata": {
        "id": "_Xhrr1GoWxTa",
        "colab_type": "code",
        "outputId": "723d5599-2edd-4f24-ed54-80b3c6897549",
        "colab": {
          "base_uri": "https://localhost:8080/",
          "height": 153
        }
      },
      "source": [
        "pd.value_counts(faixa_pontos)"
      ],
      "execution_count": 22,
      "outputs": [
        {
          "output_type": "execute_result",
          "data": {
            "text/plain": [
              "100     43\n",
              "0       40\n",
              "-100    12\n",
              "200     10\n",
              "-300     2\n",
              "300      1\n",
              "-200     0\n",
              "Name: Res. Tot. Líq., dtype: int64"
            ]
          },
          "metadata": {
            "tags": []
          },
          "execution_count": 22
        }
      ]
    },
    {
      "cell_type": "markdown",
      "metadata": {
        "id": "O0sqw_Q1M009",
        "colab_type": "text"
      },
      "source": [
        "## Gráficos"
      ]
    },
    {
      "cell_type": "markdown",
      "metadata": {
        "id": "BrmC12oIZmdB",
        "colab_type": "text"
      },
      "source": [
        "## 1. Porcentagem por tipo de resultado\n"
      ]
    },
    {
      "cell_type": "code",
      "metadata": {
        "id": "M8bohuK_1GeM",
        "colab_type": "code",
        "colab": {}
      },
      "source": [
        "# total de operações no mês por tipo (positivo, negativo, neutro)\n",
        "num = dados['Res. Tot. Líq.']\n",
        "soma = 0\n",
        "neg = 0\n",
        "neutro = 0 \n",
        "\n",
        "for item in num:\n",
        "  if (item > 0):\n",
        "    soma = soma + 1\n",
        "  elif (item < 0):\n",
        "    neg = neg + 1\n",
        "  else:\n",
        "    neutro = neutro + 1"
      ],
      "execution_count": 0,
      "outputs": []
    },
    {
      "cell_type": "code",
      "metadata": {
        "id": "r-ke-vSuPzQk",
        "colab_type": "code",
        "outputId": "b55d059a-89c6-45e8-fa50-1cad7f9dab3f",
        "colab": {
          "base_uri": "https://localhost:8080/",
          "height": 142
        }
      },
      "source": [
        "resultado = {\n",
        "             'item': ['positivo','negativo','neutro'],\n",
        "             'valor': [soma, neg, neutro]\n",
        "            }\n",
        "\n",
        "dfResultado = pd.DataFrame(resultado, columns = ['item', 'valor'])\n",
        "dfResultado"
      ],
      "execution_count": 24,
      "outputs": [
        {
          "output_type": "execute_result",
          "data": {
            "text/html": [
              "<div>\n",
              "<style scoped>\n",
              "    .dataframe tbody tr th:only-of-type {\n",
              "        vertical-align: middle;\n",
              "    }\n",
              "\n",
              "    .dataframe tbody tr th {\n",
              "        vertical-align: top;\n",
              "    }\n",
              "\n",
              "    .dataframe thead th {\n",
              "        text-align: right;\n",
              "    }\n",
              "</style>\n",
              "<table border=\"1\" class=\"dataframe\">\n",
              "  <thead>\n",
              "    <tr style=\"text-align: right;\">\n",
              "      <th></th>\n",
              "      <th>item</th>\n",
              "      <th>valor</th>\n",
              "    </tr>\n",
              "  </thead>\n",
              "  <tbody>\n",
              "    <tr>\n",
              "      <th>0</th>\n",
              "      <td>positivo</td>\n",
              "      <td>56</td>\n",
              "    </tr>\n",
              "    <tr>\n",
              "      <th>1</th>\n",
              "      <td>negativo</td>\n",
              "      <td>50</td>\n",
              "    </tr>\n",
              "    <tr>\n",
              "      <th>2</th>\n",
              "      <td>neutro</td>\n",
              "      <td>5</td>\n",
              "    </tr>\n",
              "  </tbody>\n",
              "</table>\n",
              "</div>"
            ],
            "text/plain": [
              "       item  valor\n",
              "0  positivo     56\n",
              "1  negativo     50\n",
              "2    neutro      5"
            ]
          },
          "metadata": {
            "tags": []
          },
          "execution_count": 24
        }
      ]
    },
    {
      "cell_type": "code",
      "metadata": {
        "id": "qfxI4IGoidBG",
        "colab_type": "code",
        "colab": {}
      },
      "source": [
        "# gerar um array\n",
        "import numpy as np\n",
        "\n",
        "my_list = [soma, abs(neg), neutro]\n",
        "my_array = np.array(my_list)"
      ],
      "execution_count": 0,
      "outputs": []
    },
    {
      "cell_type": "code",
      "metadata": {
        "id": "7jg_Mut5IP1c",
        "colab_type": "code",
        "outputId": "9444c290-2b16-44f0-fbc3-cfc68b72cb77",
        "colab": {
          "base_uri": "https://localhost:8080/",
          "height": 264
        }
      },
      "source": [
        "import matplotlib.pyplot as plt\n",
        "\n",
        "labels = list(dfResultado['item'])\n",
        "values = my_array\n",
        "\n",
        "fig1, ax1 = plt.subplots()\n",
        "\n",
        "c = ['#00AD2E','#E30013','#55ACEE'] # green, red, blue\n",
        "ax1.pie(values, labels=labels, autopct='%1.1f%%', shadow=True, startangle=90, colors=c, explode = (0.1, 0.1, 0.1))\n",
        "\n",
        "ax1.axis('equal')\n",
        "ax1.set_title('Porcentagem por tipo de resultado')\n",
        "plt.show()"
      ],
      "execution_count": 26,
      "outputs": [
        {
          "output_type": "display_data",
          "data": {
            "image/png": "[encoded data removed]",
            "text/plain": [
              "<Figure size 432x288 with 1 Axes>"
            ]
          },
          "metadata": {
            "tags": []
          }
        }
      ]
    },
    {
      "cell_type": "markdown",
      "metadata": {
        "id": "9GTCNG6CZrrb",
        "colab_type": "text"
      },
      "source": [
        "## 2. Resultado por dia"
      ]
    },
    {
      "cell_type": "code",
      "metadata": {
        "id": "5Yqjnya0o2ah",
        "colab_type": "code",
        "outputId": "14b91c67-2cde-4330-fd00-ad229a71f695",
        "colab": {
          "base_uri": "https://localhost:8080/",
          "height": 390
        }
      },
      "source": [
        "# Definindo variáveis\n",
        "x = resumo.index\n",
        "y = resumo.resultado\n",
        " \n",
        "# Criando um gráfico\n",
        "plt.figure(figsize=(10,6))\n",
        "plt.bar(x, y, label = 'Barrar1', color = 'r')\n",
        "plt.title(\"Resultado por dia\")\n",
        " \n",
        "plt.show()"
      ],
      "execution_count": 32,
      "outputs": [
        {
          "output_type": "display_data",
          "data": {
            "image/png": "[encoded data removed]",
            "text/plain": [
              "<Figure size 720x432 with 1 Axes>"
            ]
          },
          "metadata": {
            "tags": [],
            "needs_background": "light"
          }
        }
      ]
    },
    {
      "cell_type": "code",
      "metadata": {
        "id": "hu_8x6bTM-fC",
        "colab_type": "code",
        "outputId": "88b7d0dd-dcd9-435a-9088-16c40395eacd",
        "colab": {
          "base_uri": "https://localhost:8080/",
          "height": 282
        }
      },
      "source": [
        "# histograma das inscrições pela pontuação do aluno\n",
        "dados['Res. Tot. Líq.'].plot(kind='hist')"
      ],
      "execution_count": 33,
      "outputs": [
        {
          "output_type": "execute_result",
          "data": {
            "text/plain": [
              "<matplotlib.axes._subplots.AxesSubplot at 0x7f2ce2bc9748>"
            ]
          },
          "metadata": {
            "tags": []
          },
          "execution_count": 33
        },
        {
          "output_type": "display_data",
          "data": {
            "image/png": "[encoded data removed]",
            "text/plain": [
              "<Figure size 432x288 with 1 Axes>"
            ]
          },
          "metadata": {
            "tags": [],
            "needs_background": "light"
          }
        }
      ]
    },
    {
      "cell_type": "code",
      "metadata": {
        "id": "dXAyesfAFoua",
        "colab_type": "code",
        "outputId": "70608bec-1910-41cf-fa1f-c275f7497ab6",
        "colab": {
          "base_uri": "https://localhost:8080/",
          "height": 283
        }
      },
      "source": [
        "#plt.rc('figure', figsize = (14,6))\n",
        "dados.boxplot(['Res. Tot. Líq.'])"
      ],
      "execution_count": 34,
      "outputs": [
        {
          "output_type": "execute_result",
          "data": {
            "text/plain": [
              "<matplotlib.axes._subplots.AxesSubplot at 0x7f2ce2d0f898>"
            ]
          },
          "metadata": {
            "tags": []
          },
          "execution_count": 34
        },
        {
          "output_type": "display_data",
          "data": {
            "image/png": "[encoded data removed]",
            "text/plain": [
              "<Figure size 432x288 with 1 Axes>"
            ]
          },
          "metadata": {
            "tags": [],
            "needs_background": "light"
          }
        }
      ]
    },
    {
      "cell_type": "code",
      "metadata": {
        "id": "hkd0U1XkGrXJ",
        "colab_type": "code",
        "colab": {}
      },
      "source": [
        "#dados[dados['Res. Tot. Líq.'] > 0]"
      ],
      "execution_count": 0,
      "outputs": []
    },
    {
      "cell_type": "code",
      "metadata": {
        "id": "y8QcojmD5MRz",
        "colab_type": "code",
        "colab": {}
      },
      "source": [
        "!pip install seaborn==0.9.0"
      ],
      "execution_count": 0,
      "outputs": []
    },
    {
      "cell_type": "code",
      "metadata": {
        "id": "zEP8xrkb5i4f",
        "colab_type": "code",
        "outputId": "81c632ea-5543-44aa-a800-afca7acebab1",
        "colab": {
          "base_uri": "https://localhost:8080/",
          "height": 139
        }
      },
      "source": [
        "import seaborn as sns\n",
        "dados.columns"
      ],
      "execution_count": 35,
      "outputs": [
        {
          "output_type": "stream",
          "text": [
            "/usr/local/lib/python3.6/dist-packages/statsmodels/tools/_testing.py:19: FutureWarning: pandas.util.testing is deprecated. Use the functions in the public API at pandas.testing instead.\n",
            "  import pandas.util.testing as tm\n"
          ],
          "name": "stderr"
        },
        {
          "output_type": "execute_result",
          "data": {
            "text/plain": [
              "Index(['Papel', 'Abertura', 'Fechamento', 'Tempo', 'C/V', 'Prc Médio Cpa',\n",
              "       'Prc Médio Vda', 'Result Total', 'Data', 'Res. Tot. Líq.',\n",
              "       'Saldo Result.', 'resultado'],\n",
              "      dtype='object')"
            ]
          },
          "metadata": {
            "tags": []
          },
          "execution_count": 35
        }
      ]
    },
    {
      "cell_type": "code",
      "metadata": {
        "id": "trt91Ccd5uyP",
        "colab_type": "code",
        "colab": {}
      },
      "source": [
        "#resultado_dia = sns.scatterplot(x='Res. Tot. Líq.', y='Data', data=dados)"
      ],
      "execution_count": 0,
      "outputs": []
    },
    {
      "cell_type": "markdown",
      "metadata": {
        "id": "VKO1ewh66cLP",
        "colab_type": "text"
      },
      "source": [
        "## 3. Análise por dia\n",
        "\n"
      ]
    },
    {
      "cell_type": "code",
      "metadata": {
        "id": "XnRCDELN6SEz",
        "colab_type": "code",
        "outputId": "fadba095-1086-467c-a521-9141a93df85d",
        "colab": {
          "base_uri": "https://localhost:8080/",
          "height": 369
        }
      },
      "source": [
        "distribuicao_dia = sns.catplot(x='Data', y='Res. Tot. Líq.', data=dados)"
      ],
      "execution_count": 37,
      "outputs": [
        {
          "output_type": "display_data",
          "data": {
            "image/png": "[encoded data removed]",
            "text/plain": [
              "<Figure size 360x360 with 1 Axes>"
            ]
          },
          "metadata": {
            "tags": [],
            "needs_background": "light"
          }
        }
      ]
    },
    {
      "cell_type": "code",
      "metadata": {
        "id": "TDxD7t9z7mZo",
        "colab_type": "code",
        "colab": {}
      },
      "source": [
        "# média dos resultados por dia\n",
        "#dados.groupby(['Data']).mean()"
      ],
      "execution_count": 0,
      "outputs": []
    },
    {
      "cell_type": "code",
      "metadata": {
        "id": "DccQ6B8G8TDz",
        "colab_type": "code",
        "colab": {}
      },
      "source": [
        "# Frequência dos dias\n",
        "#print('Frequência dos dias')\n",
        "#dados['Data'].value_counts()"
      ],
      "execution_count": 0,
      "outputs": []
    },
    {
      "cell_type": "code",
      "metadata": {
        "id": "1AP3h1JdNE9H",
        "colab_type": "code",
        "outputId": "62d1428d-e824-4e7f-ff2b-863621bc3f97",
        "colab": {
          "base_uri": "https://localhost:8080/",
          "height": 297
        }
      },
      "source": [
        "plotGain = dados.query(\"resultado == 'gain'\")['Res. Tot. Líq.']\n",
        "print(\"Distribuição dos gains obtidos\")\n",
        "plotGain = sns.distplot(plotGain)"
      ],
      "execution_count": 38,
      "outputs": [
        {
          "output_type": "stream",
          "text": [
            "Distribuição dos gains obtidos\n"
          ],
          "name": "stdout"
        },
        {
          "output_type": "display_data",
          "data": {
            "image/png": "[encoded data removed]",
            "text/plain": [
              "<Figure size 432x288 with 1 Axes>"
            ]
          },
          "metadata": {
            "tags": [],
            "needs_background": "light"
          }
        }
      ]
    },
    {
      "cell_type": "code",
      "metadata": {
        "id": "6pjMw0zgaYI-",
        "colab_type": "code",
        "outputId": "5b855036-5434-436d-d855-9f44d5ac2b0b",
        "colab": {
          "base_uri": "https://localhost:8080/",
          "height": 297
        }
      },
      "source": [
        "plotLoss = dados.query(\"resultado == 'loss'\")['Res. Tot. Líq.']\n",
        "print(\"Distribuição dos loss tomados\")\n",
        "plotLoss = sns.distplot(plotLoss)"
      ],
      "execution_count": 39,
      "outputs": [
        {
          "output_type": "stream",
          "text": [
            "Distribuição dos loss tomados\n"
          ],
          "name": "stdout"
        },
        {
          "output_type": "display_data",
          "data": {
            "image/png": "[encoded data removed]",
            "text/plain": [
              "<Figure size 432x288 with 1 Axes>"
            ]
          },
          "metadata": {
            "tags": [],
            "needs_background": "light"
          }
        }
      ]
    },
    {
      "cell_type": "code",
      "metadata": {
        "id": "EOfGKrMxN4CK",
        "colab_type": "code",
        "outputId": "876cd832-9559-4263-bc98-77859f19f893",
        "colab": {
          "base_uri": "https://localhost:8080/",
          "height": 386
        }
      },
      "source": [
        "sns.relplot(x='Data', y='Res. Tot. Líq.', hue='resultado', col='resultado', data=dados)"
      ],
      "execution_count": 40,
      "outputs": [
        {
          "output_type": "execute_result",
          "data": {
            "text/plain": [
              "<seaborn.axisgrid.FacetGrid at 0x7f2cd57881d0>"
            ]
          },
          "metadata": {
            "tags": []
          },
          "execution_count": 40
        },
        {
          "output_type": "display_data",
          "data": {
            "image/png": "[encoded data removed]",
            "text/plain": [
              "<Figure size 802.875x360 with 2 Axes>"
            ]
          },
          "metadata": {
            "tags": [],
            "needs_background": "light"
          }
        }
      ]
    },
    {
      "cell_type": "code",
      "metadata": {
        "id": "FAItgDzKEHkg",
        "colab_type": "code",
        "colab": {}
      },
      "source": [
        "# definição de valores para cálculo do ir\n",
        "taxas_operacionais = 25\n",
        "saldo_bruto = soma\n",
        "\n",
        "saldo_liquido = saldo_bruto - taxas_operacionais\n",
        "saldo_liquido = 0.2 * saldo_bruto\n",
        "\n",
        "print('IR DEVIDO: ', saldo_liquido)"
      ],
      "execution_count": 0,
      "outputs": []
    },
    {
      "cell_type": "code",
      "metadata": {
        "id": "wC1PJXT7IBfH",
        "colab_type": "code",
        "colab": {}
      },
      "source": [
        ""
      ],
      "execution_count": 0,
      "outputs": []
    }
  ]
}