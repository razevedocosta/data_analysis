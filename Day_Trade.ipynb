{
  "nbformat": 4,
  "nbformat_minor": 0,
  "metadata": {
    "colab": {
      "name": "Day_Trade.ipynb",
      "provenance": [],
      "toc_visible": true,
      "authorship_tag": "ABX9TyM3NiL2Wjhban23VSQH5QTy",
      "include_colab_link": true
    },
    "kernelspec": {
      "name": "python3",
      "display_name": "Python 3"
    }
  },
  "cells": [
    {
      "cell_type": "markdown",
      "metadata": {
        "id": "view-in-github",
        "colab_type": "text"
      },
      "source": [
        "<a href=\"https://colab.research.google.com/github/razevedocosta/data_analysis/blob/master/Day_Trade.ipynb\" target=\"_parent\"><img src=\"https://colab.research.google.com/assets/colab-badge.svg\" alt=\"Open In Colab\"/></a>"
      ]
    },
    {
      "cell_type": "markdown",
      "metadata": {
        "id": "4RxyjMZPFUWx",
        "colab_type": "text"
      },
      "source": [
        "# Visualização dos resultados de day trade\n",
        "\n",
        "Este notebook apresenta as seguintes informações:\n",
        "1.   Resumo das operações realizadas no mês\n",
        "2.   Operações agrupadas por dia\n",
        "3.   Gráfico de pizza - taxa de acerto\n",
        "4.   Gráfico de barra - resultado por dia\n",
        "5.   Histograma do resultado líquido\n",
        "6.   Resultado por dia\n",
        "7.   Resultado por tipo de operação\n",
        "8.   Distribuição dos resultados por dia"
      ]
    },
    {
      "cell_type": "markdown",
      "metadata": {
        "id": "e23SOETrrq5i",
        "colab_type": "text"
      },
      "source": [
        "# Importação de Dados"
      ]
    },
    {
      "cell_type": "code",
      "metadata": {
        "id": "7q7BYzmFc6im",
        "colab_type": "code",
        "colab": {}
      },
      "source": [
        "import pandas as pd\n",
        "\n",
        "import matplotlib.pyplot as plt\n",
        "plt.style.use(\"ggplot\")\n",
        "\n",
        "dados = pd.read_csv('trade_maio.csv', sep=\";\")\n",
        "#dados.loc[dados['Data'] == '25/05/2020']\n",
        "dados.rename(columns={'C/V':'operacao'}, inplace=True)"
      ],
      "execution_count": 147,
      "outputs": []
    },
    {
      "cell_type": "markdown",
      "metadata": {
        "id": "tFLADNtjw1gu",
        "colab_type": "text"
      },
      "source": [
        "# Tratamento dos dados"
      ]
    },
    {
      "cell_type": "code",
      "metadata": {
        "id": "_CyhPX91Q7Yv",
        "colab_type": "code",
        "colab": {}
      },
      "source": [
        "# excluindo colunas desnecessárias\n",
        "dados.drop(['Qtd', 'Saldo', 'Custos', 'Result Aber', 'Result Fech', 'TET', 'MEP', 'MEN'], inplace = True, axis=1)\n",
        "#dados.head()"
      ],
      "execution_count": 148,
      "outputs": []
    },
    {
      "cell_type": "code",
      "metadata": {
        "id": "Bc6e-pa0J4Lq",
        "colab_type": "code",
        "colab": {}
      },
      "source": [
        "# replace para valores monetários\n",
        "dados['Res. Tot. Líq.'] = [x.replace(\".\", \"\") for x in dados['Res. Tot. Líq.']]\n",
        "dados['Res. Tot. Líq.'] = [x.replace(\",\", \".\") for x in dados['Res. Tot. Líq.']]\n",
        "\n",
        "dados['Res. Tot. Líq.'] = dados['Res. Tot. Líq.'].astype(float)\n",
        "\n",
        "#dados['Res. Tot. Líq.']"
      ],
      "execution_count": 149,
      "outputs": []
    },
    {
      "cell_type": "code",
      "metadata": {
        "id": "1fh9Ht7FLB69",
        "colab_type": "code",
        "colab": {}
      },
      "source": [
        "# atribuindo gain ou loss para uma nova coluna resultado\n",
        "dados['resultado'] = dados['Res. Tot. Líq.'].apply(lambda x: 'gain' if x > 0 else 'loss')\n",
        "#dados.tail()\n",
        "#dados.head()"
      ],
      "execution_count": 150,
      "outputs": []
    },
    {
      "cell_type": "markdown",
      "metadata": {
        "id": "tHIxOkjXGW1V",
        "colab_type": "text"
      },
      "source": [
        "# Resumo do Mês"
      ]
    },
    {
      "cell_type": "code",
      "metadata": {
        "id": "1y-ftBRnDykU",
        "colab_type": "code",
        "colab": {}
      },
      "source": [
        "# total de operações em gain\n",
        "gain = dados.loc[dados['resultado'] == 'gain']\n",
        "gain = gain['resultado'].count()\n",
        "\n",
        "# total de operações em loss\n",
        "loss = dados.loc[dados['resultado'] == 'loss']\n",
        "loss = loss['resultado'].count()"
      ],
      "execution_count": 151,
      "outputs": []
    },
    {
      "cell_type": "code",
      "metadata": {
        "id": "mHq5Ebtjjd3i",
        "colab_type": "code",
        "colab": {
          "base_uri": "https://localhost:8080/",
          "height": 283
        },
        "outputId": "9812d841-7257-4af4-a96b-6007fa1b254c"
      },
      "source": [
        "# criar dataframe para resumo das informações do mês\n",
        "total = dados['Papel'].count()\n",
        "maximo = dados['Res. Tot. Líq.'].max()\n",
        "minimo = dados['Res. Tot. Líq.'].min()\n",
        "total_bruto = dados['Res. Tot. Líq.'].sum()\n",
        "dias_operados = dados['Data'].unique().size\n",
        "\n",
        "descricao = {'item': ['total_ordens','gain','loss','maximo','minimo','total_bruto','dias_operados'],\n",
        "             'valor': [total, gain, loss, maximo, minimo, total_bruto, dias_operados]\n",
        "            }\n",
        "\n",
        "df = pd.DataFrame(descricao, columns = ['item', 'valor'])\n",
        "\n",
        "print(\"RESUMO DAS OPERAÇÕES DO MÊS\")\n",
        "df"
      ],
      "execution_count": 152,
      "outputs": [
        {
          "output_type": "stream",
          "text": [
            "RESUMO DAS OPERAÇÕES DO MÊS\n"
          ],
          "name": "stdout"
        },
        {
          "output_type": "execute_result",
          "data": {
            "text/html": [
              "<div>\n",
              "<style scoped>\n",
              "    .dataframe tbody tr th:only-of-type {\n",
              "        vertical-align: middle;\n",
              "    }\n",
              "\n",
              "    .dataframe tbody tr th {\n",
              "        vertical-align: top;\n",
              "    }\n",
              "\n",
              "    .dataframe thead th {\n",
              "        text-align: right;\n",
              "    }\n",
              "</style>\n",
              "<table border=\"1\" class=\"dataframe\">\n",
              "  <thead>\n",
              "    <tr style=\"text-align: right;\">\n",
              "      <th></th>\n",
              "      <th>item</th>\n",
              "      <th>valor</th>\n",
              "    </tr>\n",
              "  </thead>\n",
              "  <tbody>\n",
              "    <tr>\n",
              "      <th>0</th>\n",
              "      <td>total_ordens</td>\n",
              "      <td>111.0</td>\n",
              "    </tr>\n",
              "    <tr>\n",
              "      <th>1</th>\n",
              "      <td>gain</td>\n",
              "      <td>56.0</td>\n",
              "    </tr>\n",
              "    <tr>\n",
              "      <th>2</th>\n",
              "      <td>loss</td>\n",
              "      <td>55.0</td>\n",
              "    </tr>\n",
              "    <tr>\n",
              "      <th>3</th>\n",
              "      <td>maximo</td>\n",
              "      <td>823.0</td>\n",
              "    </tr>\n",
              "    <tr>\n",
              "      <th>4</th>\n",
              "      <td>minimo</td>\n",
              "      <td>-1050.0</td>\n",
              "    </tr>\n",
              "    <tr>\n",
              "      <th>5</th>\n",
              "      <td>total_bruto</td>\n",
              "      <td>-1026.0</td>\n",
              "    </tr>\n",
              "    <tr>\n",
              "      <th>6</th>\n",
              "      <td>dias_operados</td>\n",
              "      <td>16.0</td>\n",
              "    </tr>\n",
              "  </tbody>\n",
              "</table>\n",
              "</div>"
            ],
            "text/plain": [
              "            item   valor\n",
              "0   total_ordens   111.0\n",
              "1           gain    56.0\n",
              "2           loss    55.0\n",
              "3         maximo   823.0\n",
              "4         minimo -1050.0\n",
              "5    total_bruto -1026.0\n",
              "6  dias_operados    16.0"
            ]
          },
          "metadata": {
            "tags": []
          },
          "execution_count": 152
        }
      ]
    },
    {
      "cell_type": "markdown",
      "metadata": {
        "id": "6TE6VhuREkIV",
        "colab_type": "text"
      },
      "source": [
        "# Análises\n",
        "\n",
        "Visualização de alguns resultados quantitativos, tais como: \n",
        "**quadro geral de operações, distribuição dos resultados por dia, taxa de acerto (gain e loss)**"
      ]
    },
    {
      "cell_type": "markdown",
      "metadata": {
        "id": "D9f9kHaN-A-U",
        "colab_type": "text"
      },
      "source": [
        "## Quadro geral"
      ]
    },
    {
      "cell_type": "code",
      "metadata": {
        "id": "wd4N5vY0Pphv",
        "colab_type": "code",
        "colab": {}
      },
      "source": [
        "# total de operações realizadas por dia\n",
        "operacoes = dados.groupby(['Data'], as_index=False)['Res. Tot. Líq.'].count()\n",
        "nova_coluna = operacoes['Res. Tot. Líq.']\n",
        "\n",
        "# agrupar por data e somar o resultado líquido\n",
        "resumo = dados.groupby(['Data'], as_index=False)['Res. Tot. Líq.'].sum()\n",
        "\n",
        "# renomear o nome das colunas\n",
        "resumo.rename(columns={'Data':'data', 'Res. Tot. Líq.':'resultado'}, inplace=True)\n",
        "\n",
        "# inserir a coluna qtde_operacoes no dataFrame\n",
        "resumo.insert(loc=2, column='qtde_operacoes', value=nova_coluna)"
      ],
      "execution_count": 153,
      "outputs": []
    },
    {
      "cell_type": "code",
      "metadata": {
        "id": "6BFVQ3B3iYTk",
        "colab_type": "code",
        "colab": {}
      },
      "source": [
        "#grupo_data = dados.groupby('Data')\n",
        "#for data, dados in grupo_data: \n",
        "#print(data)\n",
        "#for data, dados in grupo_data: \n",
        "#    print('{} -> {}'.format(data, dados['Res. Tot. Líq.'].count()))"
      ],
      "execution_count": 154,
      "outputs": []
    },
    {
      "cell_type": "code",
      "metadata": {
        "id": "HzAHfCJuiX4x",
        "colab_type": "code",
        "colab": {}
      },
      "source": [
        "dados[['Data', 'Res. Tot. Líq.']]\n",
        "\n",
        "# total de operações com gain\n",
        "dfGain = dados.loc[dados['resultado'] == 'gain']\n",
        "gain = dfGain.groupby(['Data'], as_index=False)['resultado'].count()"
      ],
      "execution_count": 155,
      "outputs": []
    },
    {
      "cell_type": "code",
      "metadata": {
        "id": "fhl_1mG8t7Ou",
        "colab_type": "code",
        "colab": {}
      },
      "source": [
        "# total de operações com loss\n",
        "dfLoss = dados.loc[dados['resultado'] == 'loss']\n",
        "loss = dfLoss.groupby(['Data'], as_index=False)['resultado'].count()"
      ],
      "execution_count": 156,
      "outputs": []
    },
    {
      "cell_type": "code",
      "metadata": {
        "id": "drWzWY9zqkau",
        "colab_type": "code",
        "colab": {}
      },
      "source": [
        "# inserir as colunas gain e loss no dataFrame\n",
        "resumo.insert(loc=3, column='gain', value=gain['resultado'])\n",
        "resumo.insert(loc=4, column='loss', value=loss['resultado'])"
      ],
      "execution_count": 157,
      "outputs": []
    },
    {
      "cell_type": "code",
      "metadata": {
        "id": "Xj7wZIVu35Fu",
        "colab_type": "code",
        "colab": {}
      },
      "source": [
        "resumo.set_index('data', inplace=True)\n",
        "resumo['gain'] = gain.set_index('Data')['resultado']\n",
        "resumo['loss'] = loss.set_index('Data')['resultado']"
      ],
      "execution_count": 158,
      "outputs": []
    },
    {
      "cell_type": "code",
      "metadata": {
        "id": "cNX0TmQcoEdE",
        "colab_type": "code",
        "colab": {}
      },
      "source": [
        "#resumo"
      ],
      "execution_count": 159,
      "outputs": []
    },
    {
      "cell_type": "code",
      "metadata": {
        "id": "LMxMTn3-GR-t",
        "colab_type": "code",
        "colab": {
          "base_uri": "https://localhost:8080/",
          "height": 593
        },
        "outputId": "6aa968d6-7f48-4e64-9660-bf963df09fcd"
      },
      "source": [
        "# inserir valor 0 quando não há quantidade de gain ou loss\n",
        "print(\"QUADRO GERAL DE OPERAÇÕES\")\n",
        "resumo.fillna(0)"
      ],
      "execution_count": 160,
      "outputs": [
        {
          "output_type": "stream",
          "text": [
            "QUADRO GERAL DE OPERAÇÕES\n"
          ],
          "name": "stdout"
        },
        {
          "output_type": "execute_result",
          "data": {
            "text/html": [
              "<div>\n",
              "<style scoped>\n",
              "    .dataframe tbody tr th:only-of-type {\n",
              "        vertical-align: middle;\n",
              "    }\n",
              "\n",
              "    .dataframe tbody tr th {\n",
              "        vertical-align: top;\n",
              "    }\n",
              "\n",
              "    .dataframe thead th {\n",
              "        text-align: right;\n",
              "    }\n",
              "</style>\n",
              "<table border=\"1\" class=\"dataframe\">\n",
              "  <thead>\n",
              "    <tr style=\"text-align: right;\">\n",
              "      <th></th>\n",
              "      <th>resultado</th>\n",
              "      <th>qtde_operacoes</th>\n",
              "      <th>gain</th>\n",
              "      <th>loss</th>\n",
              "    </tr>\n",
              "    <tr>\n",
              "      <th>data</th>\n",
              "      <th></th>\n",
              "      <th></th>\n",
              "      <th></th>\n",
              "      <th></th>\n",
              "    </tr>\n",
              "  </thead>\n",
              "  <tbody>\n",
              "    <tr>\n",
              "      <th>05/05/2020</th>\n",
              "      <td>-796.0</td>\n",
              "      <td>42</td>\n",
              "      <td>17.0</td>\n",
              "      <td>25.0</td>\n",
              "    </tr>\n",
              "    <tr>\n",
              "      <th>06/05/2020</th>\n",
              "      <td>-620.0</td>\n",
              "      <td>5</td>\n",
              "      <td>2.0</td>\n",
              "      <td>3.0</td>\n",
              "    </tr>\n",
              "    <tr>\n",
              "      <th>07/05/2020</th>\n",
              "      <td>-148.0</td>\n",
              "      <td>12</td>\n",
              "      <td>4.0</td>\n",
              "      <td>8.0</td>\n",
              "    </tr>\n",
              "    <tr>\n",
              "      <th>08/05/2020</th>\n",
              "      <td>24.0</td>\n",
              "      <td>4</td>\n",
              "      <td>2.0</td>\n",
              "      <td>2.0</td>\n",
              "    </tr>\n",
              "    <tr>\n",
              "      <th>11/05/2020</th>\n",
              "      <td>142.0</td>\n",
              "      <td>4</td>\n",
              "      <td>3.0</td>\n",
              "      <td>1.0</td>\n",
              "    </tr>\n",
              "    <tr>\n",
              "      <th>13/05/2020</th>\n",
              "      <td>-71.0</td>\n",
              "      <td>7</td>\n",
              "      <td>4.0</td>\n",
              "      <td>3.0</td>\n",
              "    </tr>\n",
              "    <tr>\n",
              "      <th>14/05/2020</th>\n",
              "      <td>-96.0</td>\n",
              "      <td>11</td>\n",
              "      <td>5.0</td>\n",
              "      <td>6.0</td>\n",
              "    </tr>\n",
              "    <tr>\n",
              "      <th>15/05/2020</th>\n",
              "      <td>-82.0</td>\n",
              "      <td>1</td>\n",
              "      <td>0.0</td>\n",
              "      <td>1.0</td>\n",
              "    </tr>\n",
              "    <tr>\n",
              "      <th>19/05/2020</th>\n",
              "      <td>24.0</td>\n",
              "      <td>4</td>\n",
              "      <td>2.0</td>\n",
              "      <td>2.0</td>\n",
              "    </tr>\n",
              "    <tr>\n",
              "      <th>20/05/2020</th>\n",
              "      <td>22.0</td>\n",
              "      <td>2</td>\n",
              "      <td>2.0</td>\n",
              "      <td>0.0</td>\n",
              "    </tr>\n",
              "    <tr>\n",
              "      <th>21/05/2020</th>\n",
              "      <td>26.0</td>\n",
              "      <td>2</td>\n",
              "      <td>2.0</td>\n",
              "      <td>0.0</td>\n",
              "    </tr>\n",
              "    <tr>\n",
              "      <th>22/05/2020</th>\n",
              "      <td>74.0</td>\n",
              "      <td>2</td>\n",
              "      <td>1.0</td>\n",
              "      <td>1.0</td>\n",
              "    </tr>\n",
              "    <tr>\n",
              "      <th>25/05/2020</th>\n",
              "      <td>66.0</td>\n",
              "      <td>1</td>\n",
              "      <td>1.0</td>\n",
              "      <td>0.0</td>\n",
              "    </tr>\n",
              "    <tr>\n",
              "      <th>26/05/2020</th>\n",
              "      <td>148.0</td>\n",
              "      <td>6</td>\n",
              "      <td>4.0</td>\n",
              "      <td>2.0</td>\n",
              "    </tr>\n",
              "    <tr>\n",
              "      <th>27/05/2020</th>\n",
              "      <td>71.0</td>\n",
              "      <td>6</td>\n",
              "      <td>5.0</td>\n",
              "      <td>1.0</td>\n",
              "    </tr>\n",
              "    <tr>\n",
              "      <th>28/05/2020</th>\n",
              "      <td>190.0</td>\n",
              "      <td>2</td>\n",
              "      <td>2.0</td>\n",
              "      <td>0.0</td>\n",
              "    </tr>\n",
              "  </tbody>\n",
              "</table>\n",
              "</div>"
            ],
            "text/plain": [
              "            resultado  qtde_operacoes  gain  loss\n",
              "data                                             \n",
              "05/05/2020     -796.0              42  17.0  25.0\n",
              "06/05/2020     -620.0               5   2.0   3.0\n",
              "07/05/2020     -148.0              12   4.0   8.0\n",
              "08/05/2020       24.0               4   2.0   2.0\n",
              "11/05/2020      142.0               4   3.0   1.0\n",
              "13/05/2020      -71.0               7   4.0   3.0\n",
              "14/05/2020      -96.0              11   5.0   6.0\n",
              "15/05/2020      -82.0               1   0.0   1.0\n",
              "19/05/2020       24.0               4   2.0   2.0\n",
              "20/05/2020       22.0               2   2.0   0.0\n",
              "21/05/2020       26.0               2   2.0   0.0\n",
              "22/05/2020       74.0               2   1.0   1.0\n",
              "25/05/2020       66.0               1   1.0   0.0\n",
              "26/05/2020      148.0               6   4.0   2.0\n",
              "27/05/2020       71.0               6   5.0   1.0\n",
              "28/05/2020      190.0               2   2.0   0.0"
            ]
          },
          "metadata": {
            "tags": []
          },
          "execution_count": 160
        }
      ]
    },
    {
      "cell_type": "markdown",
      "metadata": {
        "id": "2McbvDaZGArZ",
        "colab_type": "text"
      },
      "source": [
        "## Pay off das operações"
      ]
    },
    {
      "cell_type": "code",
      "metadata": {
        "id": "5-7Odb-Xp2Hv",
        "colab_type": "code",
        "colab": {}
      },
      "source": [
        "# media dos trades que foram positivos\n",
        "queryGain = resumo.query('resultado > 0')\n",
        "mediaGain = queryGain.resultado.mean()\n",
        "#mediaGain"
      ],
      "execution_count": 161,
      "outputs": []
    },
    {
      "cell_type": "code",
      "metadata": {
        "id": "ClfdNuBoZxdy",
        "colab_type": "code",
        "colab": {}
      },
      "source": [
        "# media dos trades que foram negativos\n",
        "queryLoss = resumo.query('resultado < 0')\n",
        "mediaLoss = queryLoss.resultado.mean()\n",
        "#abs(mediaLoss)"
      ],
      "execution_count": 162,
      "outputs": []
    },
    {
      "cell_type": "code",
      "metadata": {
        "id": "o7V_4YeGZ_ZT",
        "colab_type": "code",
        "colab": {
          "base_uri": "https://localhost:8080/",
          "height": 51
        },
        "outputId": "64947b33-8ee5-4dde-e109-f2f7736df29e"
      },
      "source": [
        "# payoff\n",
        "pay = mediaGain / abs(mediaLoss)\n",
        "print(\"PAYOFF\")\n",
        "round(pay, 2)"
      ],
      "execution_count": 163,
      "outputs": [
        {
          "output_type": "stream",
          "text": [
            "PAYOFF\n"
          ],
          "name": "stdout"
        },
        {
          "output_type": "execute_result",
          "data": {
            "text/plain": [
              "0.26"
            ]
          },
          "metadata": {
            "tags": []
          },
          "execution_count": 163
        }
      ]
    },
    {
      "cell_type": "markdown",
      "metadata": {
        "id": "li2yn8YAGFFw",
        "colab_type": "text"
      },
      "source": [
        "## Faixa de pontos"
      ]
    },
    {
      "cell_type": "code",
      "metadata": {
        "id": "iPvCrKTE6xr4",
        "colab_type": "code",
        "colab": {}
      },
      "source": [
        "# faixas de pontos\n",
        "classes = [-400, -300, -200, -100, 0, 100, 200, 300]\n",
        "faixa_pontos = pd.cut(dados['Res. Tot. Líq.'], classes)\n",
        "\n",
        "# exibir resultado por grupo\n",
        "#pd.value_counts(faixa_pontos)\n",
        "\n",
        "labels = ['-300', '-200', '-100', '0', '100', '200', '300']\n",
        "faixa_pontos = pd.cut(dados['Res. Tot. Líq.'], classes, labels=labels)\n",
        "#faixa_pontos"
      ],
      "execution_count": 164,
      "outputs": []
    },
    {
      "cell_type": "code",
      "metadata": {
        "id": "V9Emzg1TTtU5",
        "colab_type": "code",
        "colab": {
          "base_uri": "https://localhost:8080/",
          "height": 34
        },
        "outputId": "4f856c14-0c71-4abe-abc1-a5e2a19f893b"
      },
      "source": [
        "pd.value_counts(faixa_pontos).sum()"
      ],
      "execution_count": 165,
      "outputs": [
        {
          "output_type": "execute_result",
          "data": {
            "text/plain": [
              "108"
            ]
          },
          "metadata": {
            "tags": []
          },
          "execution_count": 165
        }
      ]
    },
    {
      "cell_type": "code",
      "metadata": {
        "id": "_Xhrr1GoWxTa",
        "colab_type": "code",
        "colab": {}
      },
      "source": [
        "# criar Series com agrupamento dos resultados\n",
        "faixa = pd.value_counts(faixa_pontos)\n",
        "\n",
        "# converter Series para Dataframe\n",
        "df = faixa.to_frame()\n",
        "df = df.rename(columns= {0:'faixa', 1:'qtde'})\n",
        "df.index.name = 'faixa'\n",
        "df.sort_index(inplace=True)\n",
        "\n",
        "# renomenado coluna\n",
        "df.rename(columns={'Res. Tot. Líq.': 'qtde'}, inplace=True)"
      ],
      "execution_count": 189,
      "outputs": []
    },
    {
      "cell_type": "code",
      "metadata": {
        "id": "k81ePRrUS6H9",
        "colab_type": "code",
        "colab": {
          "base_uri": "https://localhost:8080/",
          "height": 391
        },
        "outputId": "6b5c3406-c383-4b61-ee16-f497bce152dc"
      },
      "source": [
        "# Definindo variáveis\n",
        "x = df.index\n",
        "y = df.qtde\n",
        " \n",
        "# Criando um gráfico\n",
        "plt.figure(figsize=(10,6))\n",
        "plt.bar(x, y, label = 'Barra1', color = 'royalblue')\n",
        "plt.title(\"Pontuação obtida por faixa\")\n",
        " \n",
        "plt.show()"
      ],
      "execution_count": 167,
      "outputs": [
        {
          "output_type": "display_data",
          "data": {
            "image/png": "[encoded data removed]",
            "text/plain": [
              "<Figure size 720x432 with 1 Axes>"
            ]
          },
          "metadata": {
            "tags": []
          }
        }
      ]
    },
    {
      "cell_type": "markdown",
      "metadata": {
        "id": "O0sqw_Q1M009",
        "colab_type": "text"
      },
      "source": [
        "## Gráficos"
      ]
    },
    {
      "cell_type": "markdown",
      "metadata": {
        "id": "BrmC12oIZmdB",
        "colab_type": "text"
      },
      "source": [
        "## 1. Porcentagem por tipo de resultado\n"
      ]
    },
    {
      "cell_type": "code",
      "metadata": {
        "id": "M8bohuK_1GeM",
        "colab_type": "code",
        "colab": {}
      },
      "source": [
        "# total de operações no mês por tipo (positivo, negativo, neutro)\n",
        "num = dados['Res. Tot. Líq.']\n",
        "soma = 0\n",
        "neg = 0\n",
        "neutro = 0 \n",
        "\n",
        "for item in num:\n",
        "  if (item > 0):\n",
        "    soma = soma + 1\n",
        "  elif (item < 0):\n",
        "    neg = neg + 1\n",
        "  else:\n",
        "    neutro = neutro + 1"
      ],
      "execution_count": 168,
      "outputs": []
    },
    {
      "cell_type": "code",
      "metadata": {
        "id": "r-ke-vSuPzQk",
        "colab_type": "code",
        "colab": {
          "base_uri": "https://localhost:8080/",
          "height": 142
        },
        "outputId": "0f74c136-450a-4986-e9b0-f49f3f9b511f"
      },
      "source": [
        "resultado = {\n",
        "             'item': ['positivo','negativo','neutro'],\n",
        "             'valor': [soma, neg, neutro]\n",
        "            }\n",
        "\n",
        "dfResultado = pd.DataFrame(resultado, columns = ['item', 'valor'])\n",
        "dfResultado"
      ],
      "execution_count": 169,
      "outputs": [
        {
          "output_type": "execute_result",
          "data": {
            "text/html": [
              "<div>\n",
              "<style scoped>\n",
              "    .dataframe tbody tr th:only-of-type {\n",
              "        vertical-align: middle;\n",
              "    }\n",
              "\n",
              "    .dataframe tbody tr th {\n",
              "        vertical-align: top;\n",
              "    }\n",
              "\n",
              "    .dataframe thead th {\n",
              "        text-align: right;\n",
              "    }\n",
              "</style>\n",
              "<table border=\"1\" class=\"dataframe\">\n",
              "  <thead>\n",
              "    <tr style=\"text-align: right;\">\n",
              "      <th></th>\n",
              "      <th>item</th>\n",
              "      <th>valor</th>\n",
              "    </tr>\n",
              "  </thead>\n",
              "  <tbody>\n",
              "    <tr>\n",
              "      <th>0</th>\n",
              "      <td>positivo</td>\n",
              "      <td>56</td>\n",
              "    </tr>\n",
              "    <tr>\n",
              "      <th>1</th>\n",
              "      <td>negativo</td>\n",
              "      <td>50</td>\n",
              "    </tr>\n",
              "    <tr>\n",
              "      <th>2</th>\n",
              "      <td>neutro</td>\n",
              "      <td>5</td>\n",
              "    </tr>\n",
              "  </tbody>\n",
              "</table>\n",
              "</div>"
            ],
            "text/plain": [
              "       item  valor\n",
              "0  positivo     56\n",
              "1  negativo     50\n",
              "2    neutro      5"
            ]
          },
          "metadata": {
            "tags": []
          },
          "execution_count": 169
        }
      ]
    },
    {
      "cell_type": "code",
      "metadata": {
        "id": "qfxI4IGoidBG",
        "colab_type": "code",
        "colab": {}
      },
      "source": [
        "# gerar um array\n",
        "import numpy as np\n",
        "\n",
        "my_list = [soma, abs(neg), neutro]\n",
        "my_array = np.array(my_list)"
      ],
      "execution_count": 170,
      "outputs": []
    },
    {
      "cell_type": "code",
      "metadata": {
        "id": "7jg_Mut5IP1c",
        "colab_type": "code",
        "colab": {
          "base_uri": "https://localhost:8080/",
          "height": 265
        },
        "outputId": "def9978c-2769-46f9-82ea-a21eed87fdc7"
      },
      "source": [
        "labels = list(dfResultado['item'])\n",
        "values = my_array\n",
        "\n",
        "fig1, ax1 = plt.subplots()\n",
        "\n",
        "c = ['#00AD2E','#E30013','#55ACEE'] # green, red, blue\n",
        "ax1.pie(values, labels=labels, autopct='%1.1f%%', shadow=True, startangle=90, colors=c, explode = (0.1, 0.1, 0.1))\n",
        "\n",
        "ax1.axis('equal')\n",
        "ax1.set_title('Porcentagem por tipo de resultado')\n",
        "plt.show()"
      ],
      "execution_count": 171,
      "outputs": [
        {
          "output_type": "display_data",
          "data": {
            "image/png": "[encoded data removed]",
            "text/plain": [
              "<Figure size 432x288 with 1 Axes>"
            ]
          },
          "metadata": {
            "tags": []
          }
        }
      ]
    },
    {
      "cell_type": "markdown",
      "metadata": {
        "id": "9GTCNG6CZrrb",
        "colab_type": "text"
      },
      "source": [
        "## 2. Resultado por dia"
      ]
    },
    {
      "cell_type": "code",
      "metadata": {
        "id": "5Yqjnya0o2ah",
        "colab_type": "code",
        "colab": {
          "base_uri": "https://localhost:8080/",
          "height": 391
        },
        "outputId": "056b836b-6bec-4f55-daaa-f43a6b9cda26"
      },
      "source": [
        "# Definindo variáveis\n",
        "x = resumo.index\n",
        "y = resumo.resultado\n",
        " \n",
        "# Criando um gráfico\n",
        "plt.figure(figsize=(10,6))\n",
        "plt.bar(x, y, label = 'Barra1', color = 'royalblue')\n",
        "plt.title(\"Resultado por dia\")\n",
        " \n",
        "plt.show()"
      ],
      "execution_count": 172,
      "outputs": [
        {
          "output_type": "display_data",
          "data": {
            "image/png": "[encoded data removed]",
            "text/plain": [
              "<Figure size 720x432 with 1 Axes>"
            ]
          },
          "metadata": {
            "tags": []
          }
        }
      ]
    },
    {
      "cell_type": "code",
      "metadata": {
        "id": "hu_8x6bTM-fC",
        "colab_type": "code",
        "colab": {
          "base_uri": "https://localhost:8080/",
          "height": 265
        },
        "outputId": "d3980edb-f4ff-41e1-bf8a-610153cee5f3"
      },
      "source": [
        "# histograma das inscrições pela pontuação do aluno\n",
        "hist = dados['Res. Tot. Líq.'].plot(kind='hist')"
      ],
      "execution_count": 173,
      "outputs": [
        {
          "output_type": "display_data",
          "data": {
            "image/png": "[encoded data removed]",
            "text/plain": [
              "<Figure size 432x288 with 1 Axes>"
            ]
          },
          "metadata": {
            "tags": []
          }
        }
      ]
    },
    {
      "cell_type": "code",
      "metadata": {
        "id": "dXAyesfAFoua",
        "colab_type": "code",
        "colab": {
          "base_uri": "https://localhost:8080/",
          "height": 283
        },
        "outputId": "38ec853e-4df0-451c-b005-2c7fe35bfe19"
      },
      "source": [
        "#plt.rc('figure', figsize = (14,6))\n",
        "dados.boxplot(['Res. Tot. Líq.'])"
      ],
      "execution_count": 174,
      "outputs": [
        {
          "output_type": "execute_result",
          "data": {
            "text/plain": [
              "<matplotlib.axes._subplots.AxesSubplot at 0x7f78b50abd68>"
            ]
          },
          "metadata": {
            "tags": []
          },
          "execution_count": 174
        },
        {
          "output_type": "display_data",
          "data": {
            "image/png": "[encoded data removed]",
            "text/plain": [
              "<Figure size 432x288 with 1 Axes>"
            ]
          },
          "metadata": {
            "tags": []
          }
        }
      ]
    },
    {
      "cell_type": "code",
      "metadata": {
        "id": "hkd0U1XkGrXJ",
        "colab_type": "code",
        "colab": {}
      },
      "source": [
        "#dados[dados['Res. Tot. Líq.'] > 0]"
      ],
      "execution_count": 175,
      "outputs": []
    },
    {
      "cell_type": "code",
      "metadata": {
        "id": "y8QcojmD5MRz",
        "colab_type": "code",
        "colab": {
          "base_uri": "https://localhost:8080/",
          "height": 224
        },
        "outputId": "98bc29d7-ecd0-42b8-bc7b-693cae81f8b9"
      },
      "source": [
        "!pip install seaborn==0.9.0"
      ],
      "execution_count": 176,
      "outputs": [
        {
          "output_type": "stream",
          "text": [
            "Requirement already satisfied: seaborn==0.9.0 in /usr/local/lib/python3.6/dist-packages (0.9.0)\n",
            "Requirement already satisfied: scipy>=0.14.0 in /usr/local/lib/python3.6/dist-packages (from seaborn==0.9.0) (1.4.1)\n",
            "Requirement already satisfied: matplotlib>=1.4.3 in /usr/local/lib/python3.6/dist-packages (from seaborn==0.9.0) (3.2.1)\n",
            "Requirement already satisfied: numpy>=1.9.3 in /usr/local/lib/python3.6/dist-packages (from seaborn==0.9.0) (1.18.5)\n",
            "Requirement already satisfied: pandas>=0.15.2 in /usr/local/lib/python3.6/dist-packages (from seaborn==0.9.0) (1.0.4)\n",
            "Requirement already satisfied: python-dateutil>=2.1 in /usr/local/lib/python3.6/dist-packages (from matplotlib>=1.4.3->seaborn==0.9.0) (2.8.1)\n",
            "Requirement already satisfied: cycler>=0.10 in /usr/local/lib/python3.6/dist-packages (from matplotlib>=1.4.3->seaborn==0.9.0) (0.10.0)\n",
            "Requirement already satisfied: kiwisolver>=1.0.1 in /usr/local/lib/python3.6/dist-packages (from matplotlib>=1.4.3->seaborn==0.9.0) (1.2.0)\n",
            "Requirement already satisfied: pyparsing!=2.0.4,!=2.1.2,!=2.1.6,>=2.0.1 in /usr/local/lib/python3.6/dist-packages (from matplotlib>=1.4.3->seaborn==0.9.0) (2.4.7)\n",
            "Requirement already satisfied: pytz>=2017.2 in /usr/local/lib/python3.6/dist-packages (from pandas>=0.15.2->seaborn==0.9.0) (2018.9)\n",
            "Requirement already satisfied: six>=1.5 in /usr/local/lib/python3.6/dist-packages (from python-dateutil>=2.1->matplotlib>=1.4.3->seaborn==0.9.0) (1.12.0)\n"
          ],
          "name": "stdout"
        }
      ]
    },
    {
      "cell_type": "code",
      "metadata": {
        "id": "zEP8xrkb5i4f",
        "colab_type": "code",
        "colab": {
          "base_uri": "https://localhost:8080/",
          "height": 85
        },
        "outputId": "5b5627e7-3065-4dd2-aa57-7a1e688f2758"
      },
      "source": [
        "import seaborn as sns\n",
        "dados.columns"
      ],
      "execution_count": 177,
      "outputs": [
        {
          "output_type": "execute_result",
          "data": {
            "text/plain": [
              "Index(['Papel', 'Abertura', 'Fechamento', 'Tempo', 'operacao', 'Prc Médio Cpa',\n",
              "       'Prc Médio Vda', 'Result Total', 'Data', 'Res. Tot. Líq.',\n",
              "       'Saldo Result.', 'resultado'],\n",
              "      dtype='object')"
            ]
          },
          "metadata": {
            "tags": []
          },
          "execution_count": 177
        }
      ]
    },
    {
      "cell_type": "code",
      "metadata": {
        "id": "trt91Ccd5uyP",
        "colab_type": "code",
        "colab": {}
      },
      "source": [
        "#resultado_dia = sns.scatterplot(x='Res. Tot. Líq.', y='Data', data=dados)"
      ],
      "execution_count": 178,
      "outputs": []
    },
    {
      "cell_type": "markdown",
      "metadata": {
        "id": "VKO1ewh66cLP",
        "colab_type": "text"
      },
      "source": [
        "## 3. Distribuição dos resultados por dia\n",
        "\n"
      ]
    },
    {
      "cell_type": "code",
      "metadata": {
        "id": "XnRCDELN6SEz",
        "colab_type": "code",
        "colab": {
          "base_uri": "https://localhost:8080/",
          "height": 369
        },
        "outputId": "92670950-caa9-4021-f27c-9beaf2cf9c16"
      },
      "source": [
        "distribuicao_dia = sns.catplot(x='Data', y='Res. Tot. Líq.', data=dados)"
      ],
      "execution_count": 179,
      "outputs": [
        {
          "output_type": "display_data",
          "data": {
            "image/png": "[encoded data removed]",
            "text/plain": [
              "<Figure size 360x360 with 1 Axes>"
            ]
          },
          "metadata": {
            "tags": []
          }
        }
      ]
    },
    {
      "cell_type": "code",
      "metadata": {
        "id": "TDxD7t9z7mZo",
        "colab_type": "code",
        "colab": {}
      },
      "source": [
        "# média dos resultados por dia\n",
        "#dados.groupby(['Data']).mean()"
      ],
      "execution_count": 180,
      "outputs": []
    },
    {
      "cell_type": "code",
      "metadata": {
        "id": "DccQ6B8G8TDz",
        "colab_type": "code",
        "colab": {}
      },
      "source": [
        "# Frequência dos dias\n",
        "#print('Frequência dos dias')\n",
        "#dados['Data'].value_counts()"
      ],
      "execution_count": 181,
      "outputs": []
    },
    {
      "cell_type": "code",
      "metadata": {
        "id": "1AP3h1JdNE9H",
        "colab_type": "code",
        "colab": {
          "base_uri": "https://localhost:8080/",
          "height": 299
        },
        "outputId": "4424eabc-1912-4837-a714-370b6722da84"
      },
      "source": [
        "plotGain = dados.query(\"resultado == 'gain'\")['Res. Tot. Líq.']\n",
        "print(\"Distribuição dos gains obtidos\")\n",
        "plotGain = sns.distplot(plotGain)"
      ],
      "execution_count": 182,
      "outputs": [
        {
          "output_type": "stream",
          "text": [
            "Distribuição dos gains obtidos\n"
          ],
          "name": "stdout"
        },
        {
          "output_type": "display_data",
          "data": {
            "image/png": "[encoded data removed]",
            "text/plain": [
              "<Figure size 432x288 with 1 Axes>"
            ]
          },
          "metadata": {
            "tags": []
          }
        }
      ]
    },
    {
      "cell_type": "code",
      "metadata": {
        "id": "6pjMw0zgaYI-",
        "colab_type": "code",
        "colab": {
          "base_uri": "https://localhost:8080/",
          "height": 299
        },
        "outputId": "511fb225-3147-4af0-e7bb-e242c2d125a4"
      },
      "source": [
        "plotLoss = dados.query(\"resultado == 'loss'\")['Res. Tot. Líq.']\n",
        "print(\"Distribuição dos loss tomados\")\n",
        "plotLoss = sns.distplot(plotLoss)"
      ],
      "execution_count": 183,
      "outputs": [
        {
          "output_type": "stream",
          "text": [
            "Distribuição dos loss tomados\n"
          ],
          "name": "stdout"
        },
        {
          "output_type": "display_data",
          "data": {
            "image/png": "[encoded data removed]",
            "text/plain": [
              "<Figure size 432x288 with 1 Axes>"
            ]
          },
          "metadata": {
            "tags": []
          }
        }
      ]
    },
    {
      "cell_type": "code",
      "metadata": {
        "id": "EOfGKrMxN4CK",
        "colab_type": "code",
        "colab": {
          "base_uri": "https://localhost:8080/",
          "height": 369
        },
        "outputId": "98a82c37-0f67-4dd8-bccd-4a7c2712e4c3"
      },
      "source": [
        "plotagem = sns.relplot(x='Data', y='Res. Tot. Líq.', hue='resultado', col='resultado', data=dados)"
      ],
      "execution_count": 184,
      "outputs": [
        {
          "output_type": "display_data",
          "data": {
            "image/png": "[encoded data removed]",
            "text/plain": [
              "<Figure size 802.875x360 with 2 Axes>"
            ]
          },
          "metadata": {
            "tags": []
          }
        }
      ]
    },
    {
      "cell_type": "markdown",
      "metadata": {
        "id": "ebnqBAlSVz0G",
        "colab_type": "text"
      },
      "source": [
        "## 4. Resultado por tipo de operação"
      ]
    },
    {
      "cell_type": "code",
      "metadata": {
        "id": "zPIiX2jwNmzp",
        "colab_type": "code",
        "colab": {}
      },
      "source": [
        "# detalhes das operações de COMPRA\n",
        "dfCompra = dados.loc[dados['operacao'] == 'C']\n",
        "compra = dfCompra.groupby(['resultado'], as_index=False)['operacao'].count()\n",
        "\n",
        "# detalhes das operações de VENDA\n",
        "dfVenda = dados.loc[dados['operacao'] == 'V']\n",
        "venda = dfVenda.groupby(['resultado'], as_index=False)['operacao'].count()"
      ],
      "execution_count": 185,
      "outputs": []
    },
    {
      "cell_type": "code",
      "metadata": {
        "id": "MtSaFQXIQXfD",
        "colab_type": "code",
        "colab": {
          "base_uri": "https://localhost:8080/",
          "height": 142
        },
        "outputId": "0dde5db0-383f-4382-e0ed-b16c2e02b846"
      },
      "source": [
        "# criar Dataframe para armazenar os valores\n",
        "tabela = {'operacao': ['compra','venda'],\n",
        "        'gain': [compra.iloc[0].operacao, venda.iloc[0].operacao],\n",
        "        'loss': [compra.iloc[1].operacao, venda.iloc[1].operacao]\n",
        "        }\n",
        "\n",
        "df = pd.DataFrame(tabela, columns = ['operacao', 'gain', 'loss'])\n",
        "df.set_index('operacao', inplace=True)\n",
        "\n",
        "df"
      ],
      "execution_count": 186,
      "outputs": [
        {
          "output_type": "execute_result",
          "data": {
            "text/html": [
              "<div>\n",
              "<style scoped>\n",
              "    .dataframe tbody tr th:only-of-type {\n",
              "        vertical-align: middle;\n",
              "    }\n",
              "\n",
              "    .dataframe tbody tr th {\n",
              "        vertical-align: top;\n",
              "    }\n",
              "\n",
              "    .dataframe thead th {\n",
              "        text-align: right;\n",
              "    }\n",
              "</style>\n",
              "<table border=\"1\" class=\"dataframe\">\n",
              "  <thead>\n",
              "    <tr style=\"text-align: right;\">\n",
              "      <th></th>\n",
              "      <th>gain</th>\n",
              "      <th>loss</th>\n",
              "    </tr>\n",
              "    <tr>\n",
              "      <th>operacao</th>\n",
              "      <th></th>\n",
              "      <th></th>\n",
              "    </tr>\n",
              "  </thead>\n",
              "  <tbody>\n",
              "    <tr>\n",
              "      <th>compra</th>\n",
              "      <td>26</td>\n",
              "      <td>29</td>\n",
              "    </tr>\n",
              "    <tr>\n",
              "      <th>venda</th>\n",
              "      <td>30</td>\n",
              "      <td>26</td>\n",
              "    </tr>\n",
              "  </tbody>\n",
              "</table>\n",
              "</div>"
            ],
            "text/plain": [
              "          gain  loss\n",
              "operacao            \n",
              "compra      26    29\n",
              "venda       30    26"
            ]
          },
          "metadata": {
            "tags": []
          },
          "execution_count": 186
        }
      ]
    },
    {
      "cell_type": "code",
      "metadata": {
        "id": "xyS-w83-Unz9",
        "colab_type": "code",
        "colab": {
          "base_uri": "https://localhost:8080/",
          "height": 310
        },
        "outputId": "b82d897f-5c81-4b3b-bab2-25d68320e3bc"
      },
      "source": [
        "df = pd.DataFrame({'gain': [compra.iloc[0].operacao, compra.iloc[1].operacao],\n",
        "                  'loss': [venda.iloc[0].operacao, venda.iloc[1].operacao]},\n",
        "                   index=['compra', 'venda']) \n",
        " \n",
        "barras = df.plot(kind=\"bar\", \n",
        "                 legend=True,\n",
        "                 color=['lightgreen', 'tomato'], \n",
        "                 title=\"Resultado por tipo de operação\")"
      ],
      "execution_count": 193,
      "outputs": [
        {
          "output_type": "display_data",
          "data": {
            "image/png": "[encoded data removed]",
            "text/plain": [
              "<Figure size 432x288 with 1 Axes>"
            ]
          },
          "metadata": {
            "tags": []
          }
        }
      ]
    },
    {
      "cell_type": "markdown",
      "metadata": {
        "id": "lfudgOUNj5qo",
        "colab_type": "text"
      },
      "source": [
        "# Imposto"
      ]
    },
    {
      "cell_type": "code",
      "metadata": {
        "id": "FAItgDzKEHkg",
        "colab_type": "code",
        "colab": {
          "base_uri": "https://localhost:8080/",
          "height": 34
        },
        "outputId": "18c355b1-c69d-4475-c871-83c9a1d2225d"
      },
      "source": [
        "# definição de valores para cálculo do ir\n",
        "taxas_operacionais = 25\n",
        "saldo_bruto = soma\n",
        "\n",
        "saldo_liquido = saldo_bruto - taxas_operacionais\n",
        "saldo_liquido = 0.2 * saldo_bruto\n",
        "\n",
        "print('IR DEVIDO: ', saldo_liquido)"
      ],
      "execution_count": 188,
      "outputs": [
        {
          "output_type": "stream",
          "text": [
            "IR DEVIDO:  11.200000000000001\n"
          ],
          "name": "stdout"
        }
      ]
    },
    {
      "cell_type": "code",
      "metadata": {
        "id": "wC1PJXT7IBfH",
        "colab_type": "code",
        "colab": {}
      },
      "source": [
        ""
      ],
      "execution_count": 188,
      "outputs": []
    }
  ]
}